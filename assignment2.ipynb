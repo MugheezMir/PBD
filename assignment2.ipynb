{
 "cells": [
  {
   "cell_type": "code",
   "execution_count": 1,
   "id": "32963f44",
   "metadata": {},
   "outputs": [
    {
     "data": {
      "text/plain": [
       "[15, 15, 16, 19, 19, 20, 20, 21, 22, 28, 35, 40, 41, 42, 43, 44, 60, 61, 65]"
      ]
     },
     "execution_count": 1,
     "metadata": {},
     "output_type": "execute_result"
    }
   ],
   "source": [
    "import pandas as pd\n",
    "import random\n",
    "df = pd.read_csv('values.csv', header = None)\n",
    "values = df[0].tolist()\n",
    "values"
   ]
  },
  {
   "cell_type": "code",
   "execution_count": 11,
   "id": "55bdbb4f",
   "metadata": {},
   "outputs": [
    {
     "name": "stdout",
     "output_type": "stream",
     "text": [
      "20.90909090909091\n",
      "49.5\n"
     ]
    }
   ],
   "source": [
    "x1=random.choice(values)\n",
    "x2=random.choice(values)\n",
    "last=0\n",
    "last1=0\n",
    "xx=[]\n",
    "yy=[]\n",
    "\n",
    "while(True):\n",
    "    for number in values:\n",
    "        xx.append(abs(number - x1))\n",
    "        yy.append(abs(number - x2))\n",
    "    \n",
    "    s1 = 0\n",
    "    i1 = 0\n",
    "    s2 = 0\n",
    "    i2 = 0\n",
    "\n",
    "    for i in range(len(xx)):\n",
    "        if xx[i] < yy[i]:\n",
    "            s1 += values[i]\n",
    "            i1 += 1\n",
    "        else:\n",
    "            s2 += values[i]\n",
    "            i2 += 1\n",
    "            \n",
    "    x1 = s1 / i1\n",
    "    x2 = s2 / i2\n",
    "    \n",
    "    if(x1 == last and x2 == last1):\n",
    "        break\n",
    "        \n",
    "    last = x1\n",
    "    last1= x2\n",
    "    \n",
    "    xx.clear()\n",
    "    yy.clear()\n",
    "\n",
    "print(x1)\n",
    "print(x2)"
   ]
  }
 ],
 "metadata": {
  "kernelspec": {
   "display_name": "Python 3",
   "language": "python",
   "name": "python3"
  },
  "language_info": {
   "codemirror_mode": {
    "name": "ipython",
    "version": 3
   },
   "file_extension": ".py",
   "mimetype": "text/x-python",
   "name": "python",
   "nbconvert_exporter": "python",
   "pygments_lexer": "ipython3",
   "version": "3.8.8"
  }
 },
 "nbformat": 4,
 "nbformat_minor": 5
}
