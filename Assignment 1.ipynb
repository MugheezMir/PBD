{
 "cells": [
  {
   "cell_type": "code",
   "execution_count": 2,
   "id": "9ad4fb7c",
   "metadata": {},
   "outputs": [],
   "source": [
    "import pandas as pd"
   ]
  },
  {
   "cell_type": "code",
   "execution_count": 3,
   "id": "ee210319",
   "metadata": {},
   "outputs": [],
   "source": [
    "df=pd.read_csv('jsrt_metadata.csv')"
   ]
  },
  {
   "cell_type": "code",
   "execution_count": 4,
   "id": "0d698a9f",
   "metadata": {},
   "outputs": [
    {
     "data": {
      "text/html": [
       "<div>\n",
       "<style scoped>\n",
       "    .dataframe tbody tr th:only-of-type {\n",
       "        vertical-align: middle;\n",
       "    }\n",
       "\n",
       "    .dataframe tbody tr th {\n",
       "        vertical-align: top;\n",
       "    }\n",
       "\n",
       "    .dataframe thead th {\n",
       "        text-align: right;\n",
       "    }\n",
       "</style>\n",
       "<table border=\"1\" class=\"dataframe\">\n",
       "  <thead>\n",
       "    <tr style=\"text-align: right;\">\n",
       "      <th></th>\n",
       "      <th>study_id</th>\n",
       "      <th>subtlety</th>\n",
       "      <th>size</th>\n",
       "      <th>age</th>\n",
       "      <th>gender</th>\n",
       "      <th>x</th>\n",
       "      <th>y</th>\n",
       "      <th>state</th>\n",
       "      <th>position</th>\n",
       "      <th>diagnosis</th>\n",
       "    </tr>\n",
       "  </thead>\n",
       "  <tbody>\n",
       "    <tr>\n",
       "      <th>0</th>\n",
       "      <td>JPCLN001.png</td>\n",
       "      <td>5.0</td>\n",
       "      <td>15.0</td>\n",
       "      <td>53</td>\n",
       "      <td>Male</td>\n",
       "      <td>1634.0</td>\n",
       "      <td>692.0</td>\n",
       "      <td>malignant</td>\n",
       "      <td>l.upper lobe</td>\n",
       "      <td>lung cancer</td>\n",
       "    </tr>\n",
       "    <tr>\n",
       "      <th>1</th>\n",
       "      <td>JPCLN002.png</td>\n",
       "      <td>5.0</td>\n",
       "      <td>30.0</td>\n",
       "      <td>78</td>\n",
       "      <td>Female</td>\n",
       "      <td>1614.0</td>\n",
       "      <td>1090.0</td>\n",
       "      <td>benign</td>\n",
       "      <td>l.upper lobe(S5)</td>\n",
       "      <td>pulmonary hematoma</td>\n",
       "    </tr>\n",
       "    <tr>\n",
       "      <th>2</th>\n",
       "      <td>JPCLN003.png</td>\n",
       "      <td>5.0</td>\n",
       "      <td>30.0</td>\n",
       "      <td>63</td>\n",
       "      <td>Female</td>\n",
       "      <td>1303.0</td>\n",
       "      <td>447.0</td>\n",
       "      <td>malignant</td>\n",
       "      <td>l.upper lobe(S1+2)</td>\n",
       "      <td>lung cancer</td>\n",
       "    </tr>\n",
       "    <tr>\n",
       "      <th>3</th>\n",
       "      <td>JPCLN004.png</td>\n",
       "      <td>5.0</td>\n",
       "      <td>14.0</td>\n",
       "      <td>68</td>\n",
       "      <td>Female</td>\n",
       "      <td>606.0</td>\n",
       "      <td>836.0</td>\n",
       "      <td>benign</td>\n",
       "      <td>r.upper lobe</td>\n",
       "      <td>Inflammatory mass</td>\n",
       "    </tr>\n",
       "    <tr>\n",
       "      <th>4</th>\n",
       "      <td>JPCLN005.png</td>\n",
       "      <td>5.0</td>\n",
       "      <td>35.0</td>\n",
       "      <td>73</td>\n",
       "      <td>Female</td>\n",
       "      <td>1438.0</td>\n",
       "      <td>692.0</td>\n",
       "      <td>malignant</td>\n",
       "      <td>l.upper lobe(S3)</td>\n",
       "      <td>lung cancer</td>\n",
       "    </tr>\n",
       "    <tr>\n",
       "      <th>...</th>\n",
       "      <td>...</td>\n",
       "      <td>...</td>\n",
       "      <td>...</td>\n",
       "      <td>...</td>\n",
       "      <td>...</td>\n",
       "      <td>...</td>\n",
       "      <td>...</td>\n",
       "      <td>...</td>\n",
       "      <td>...</td>\n",
       "      <td>...</td>\n",
       "    </tr>\n",
       "    <tr>\n",
       "      <th>242</th>\n",
       "      <td>JPCNN089.png</td>\n",
       "      <td>NaN</td>\n",
       "      <td>NaN</td>\n",
       "      <td>50</td>\n",
       "      <td>Male</td>\n",
       "      <td>NaN</td>\n",
       "      <td>NaN</td>\n",
       "      <td>non-nodule</td>\n",
       "      <td>NaN</td>\n",
       "      <td>NaN</td>\n",
       "    </tr>\n",
       "    <tr>\n",
       "      <th>243</th>\n",
       "      <td>JPCNN090.png</td>\n",
       "      <td>NaN</td>\n",
       "      <td>NaN</td>\n",
       "      <td>68</td>\n",
       "      <td>Female</td>\n",
       "      <td>NaN</td>\n",
       "      <td>NaN</td>\n",
       "      <td>non-nodule</td>\n",
       "      <td>NaN</td>\n",
       "      <td>NaN</td>\n",
       "    </tr>\n",
       "    <tr>\n",
       "      <th>244</th>\n",
       "      <td>JPCNN091.png</td>\n",
       "      <td>NaN</td>\n",
       "      <td>NaN</td>\n",
       "      <td>81</td>\n",
       "      <td>Male</td>\n",
       "      <td>NaN</td>\n",
       "      <td>NaN</td>\n",
       "      <td>non-nodule</td>\n",
       "      <td>NaN</td>\n",
       "      <td>NaN</td>\n",
       "    </tr>\n",
       "    <tr>\n",
       "      <th>245</th>\n",
       "      <td>JPCNN092.png</td>\n",
       "      <td>NaN</td>\n",
       "      <td>NaN</td>\n",
       "      <td>70</td>\n",
       "      <td>Female</td>\n",
       "      <td>NaN</td>\n",
       "      <td>NaN</td>\n",
       "      <td>non-nodule</td>\n",
       "      <td>NaN</td>\n",
       "      <td>NaN</td>\n",
       "    </tr>\n",
       "    <tr>\n",
       "      <th>246</th>\n",
       "      <td>JPCNN093.png</td>\n",
       "      <td>NaN</td>\n",
       "      <td>NaN</td>\n",
       "      <td>41</td>\n",
       "      <td>Male</td>\n",
       "      <td>NaN</td>\n",
       "      <td>NaN</td>\n",
       "      <td>non-nodule</td>\n",
       "      <td>NaN</td>\n",
       "      <td>NaN</td>\n",
       "    </tr>\n",
       "  </tbody>\n",
       "</table>\n",
       "<p>247 rows × 10 columns</p>\n",
       "</div>"
      ],
      "text/plain": [
       "         study_id  subtlety  size age  gender       x       y       state  \\\n",
       "0    JPCLN001.png       5.0  15.0  53    Male  1634.0   692.0   malignant   \n",
       "1    JPCLN002.png       5.0  30.0  78  Female  1614.0  1090.0      benign   \n",
       "2    JPCLN003.png       5.0  30.0  63  Female  1303.0   447.0   malignant   \n",
       "3    JPCLN004.png       5.0  14.0  68  Female   606.0   836.0      benign   \n",
       "4    JPCLN005.png       5.0  35.0  73  Female  1438.0   692.0   malignant   \n",
       "..            ...       ...   ...  ..     ...     ...     ...         ...   \n",
       "242  JPCNN089.png       NaN   NaN  50    Male     NaN     NaN  non-nodule   \n",
       "243  JPCNN090.png       NaN   NaN  68  Female     NaN     NaN  non-nodule   \n",
       "244  JPCNN091.png       NaN   NaN  81    Male     NaN     NaN  non-nodule   \n",
       "245  JPCNN092.png       NaN   NaN  70  Female     NaN     NaN  non-nodule   \n",
       "246  JPCNN093.png       NaN   NaN  41    Male     NaN     NaN  non-nodule   \n",
       "\n",
       "               position           diagnosis  \n",
       "0          l.upper lobe         lung cancer  \n",
       "1      l.upper lobe(S5)  pulmonary hematoma  \n",
       "2    l.upper lobe(S1+2)         lung cancer  \n",
       "3          r.upper lobe   Inflammatory mass  \n",
       "4      l.upper lobe(S3)         lung cancer  \n",
       "..                  ...                 ...  \n",
       "242                 NaN                 NaN  \n",
       "243                 NaN                 NaN  \n",
       "244                 NaN                 NaN  \n",
       "245                 NaN                 NaN  \n",
       "246                 NaN                 NaN  \n",
       "\n",
       "[247 rows x 10 columns]"
      ]
     },
     "execution_count": 4,
     "metadata": {},
     "output_type": "execute_result"
    }
   ],
   "source": [
    "df"
   ]
  },
  {
   "cell_type": "code",
   "execution_count": 5,
   "id": "037fa8e1",
   "metadata": {},
   "outputs": [],
   "source": [
    "import numpy as np"
   ]
  },
  {
   "cell_type": "code",
   "execution_count": 6,
   "id": "5797fd20",
   "metadata": {},
   "outputs": [],
   "source": [
    "df.replace(\"?\", np.nan, inplace=True)"
   ]
  },
  {
   "cell_type": "code",
   "execution_count": 7,
   "id": "673b7198",
   "metadata": {},
   "outputs": [
    {
     "data": {
      "text/html": [
       "<div>\n",
       "<style scoped>\n",
       "    .dataframe tbody tr th:only-of-type {\n",
       "        vertical-align: middle;\n",
       "    }\n",
       "\n",
       "    .dataframe tbody tr th {\n",
       "        vertical-align: top;\n",
       "    }\n",
       "\n",
       "    .dataframe thead th {\n",
       "        text-align: right;\n",
       "    }\n",
       "</style>\n",
       "<table border=\"1\" class=\"dataframe\">\n",
       "  <thead>\n",
       "    <tr style=\"text-align: right;\">\n",
       "      <th></th>\n",
       "      <th>study_id</th>\n",
       "      <th>subtlety</th>\n",
       "      <th>size</th>\n",
       "      <th>age</th>\n",
       "      <th>gender</th>\n",
       "      <th>x</th>\n",
       "      <th>y</th>\n",
       "      <th>state</th>\n",
       "      <th>position</th>\n",
       "      <th>diagnosis</th>\n",
       "    </tr>\n",
       "  </thead>\n",
       "  <tbody>\n",
       "    <tr>\n",
       "      <th>0</th>\n",
       "      <td>JPCLN001.png</td>\n",
       "      <td>5.0</td>\n",
       "      <td>15.0</td>\n",
       "      <td>53</td>\n",
       "      <td>Male</td>\n",
       "      <td>1634.0</td>\n",
       "      <td>692.0</td>\n",
       "      <td>malignant</td>\n",
       "      <td>l.upper lobe</td>\n",
       "      <td>lung cancer</td>\n",
       "    </tr>\n",
       "    <tr>\n",
       "      <th>1</th>\n",
       "      <td>JPCLN002.png</td>\n",
       "      <td>5.0</td>\n",
       "      <td>30.0</td>\n",
       "      <td>78</td>\n",
       "      <td>Female</td>\n",
       "      <td>1614.0</td>\n",
       "      <td>1090.0</td>\n",
       "      <td>benign</td>\n",
       "      <td>l.upper lobe(S5)</td>\n",
       "      <td>pulmonary hematoma</td>\n",
       "    </tr>\n",
       "    <tr>\n",
       "      <th>2</th>\n",
       "      <td>JPCLN003.png</td>\n",
       "      <td>5.0</td>\n",
       "      <td>30.0</td>\n",
       "      <td>63</td>\n",
       "      <td>Female</td>\n",
       "      <td>1303.0</td>\n",
       "      <td>447.0</td>\n",
       "      <td>malignant</td>\n",
       "      <td>l.upper lobe(S1+2)</td>\n",
       "      <td>lung cancer</td>\n",
       "    </tr>\n",
       "    <tr>\n",
       "      <th>3</th>\n",
       "      <td>JPCLN004.png</td>\n",
       "      <td>5.0</td>\n",
       "      <td>14.0</td>\n",
       "      <td>68</td>\n",
       "      <td>Female</td>\n",
       "      <td>606.0</td>\n",
       "      <td>836.0</td>\n",
       "      <td>benign</td>\n",
       "      <td>r.upper lobe</td>\n",
       "      <td>Inflammatory mass</td>\n",
       "    </tr>\n",
       "    <tr>\n",
       "      <th>4</th>\n",
       "      <td>JPCLN005.png</td>\n",
       "      <td>5.0</td>\n",
       "      <td>35.0</td>\n",
       "      <td>73</td>\n",
       "      <td>Female</td>\n",
       "      <td>1438.0</td>\n",
       "      <td>692.0</td>\n",
       "      <td>malignant</td>\n",
       "      <td>l.upper lobe(S3)</td>\n",
       "      <td>lung cancer</td>\n",
       "    </tr>\n",
       "    <tr>\n",
       "      <th>...</th>\n",
       "      <td>...</td>\n",
       "      <td>...</td>\n",
       "      <td>...</td>\n",
       "      <td>...</td>\n",
       "      <td>...</td>\n",
       "      <td>...</td>\n",
       "      <td>...</td>\n",
       "      <td>...</td>\n",
       "      <td>...</td>\n",
       "      <td>...</td>\n",
       "    </tr>\n",
       "    <tr>\n",
       "      <th>242</th>\n",
       "      <td>JPCNN089.png</td>\n",
       "      <td>NaN</td>\n",
       "      <td>NaN</td>\n",
       "      <td>50</td>\n",
       "      <td>Male</td>\n",
       "      <td>NaN</td>\n",
       "      <td>NaN</td>\n",
       "      <td>non-nodule</td>\n",
       "      <td>NaN</td>\n",
       "      <td>NaN</td>\n",
       "    </tr>\n",
       "    <tr>\n",
       "      <th>243</th>\n",
       "      <td>JPCNN090.png</td>\n",
       "      <td>NaN</td>\n",
       "      <td>NaN</td>\n",
       "      <td>68</td>\n",
       "      <td>Female</td>\n",
       "      <td>NaN</td>\n",
       "      <td>NaN</td>\n",
       "      <td>non-nodule</td>\n",
       "      <td>NaN</td>\n",
       "      <td>NaN</td>\n",
       "    </tr>\n",
       "    <tr>\n",
       "      <th>244</th>\n",
       "      <td>JPCNN091.png</td>\n",
       "      <td>NaN</td>\n",
       "      <td>NaN</td>\n",
       "      <td>81</td>\n",
       "      <td>Male</td>\n",
       "      <td>NaN</td>\n",
       "      <td>NaN</td>\n",
       "      <td>non-nodule</td>\n",
       "      <td>NaN</td>\n",
       "      <td>NaN</td>\n",
       "    </tr>\n",
       "    <tr>\n",
       "      <th>245</th>\n",
       "      <td>JPCNN092.png</td>\n",
       "      <td>NaN</td>\n",
       "      <td>NaN</td>\n",
       "      <td>70</td>\n",
       "      <td>Female</td>\n",
       "      <td>NaN</td>\n",
       "      <td>NaN</td>\n",
       "      <td>non-nodule</td>\n",
       "      <td>NaN</td>\n",
       "      <td>NaN</td>\n",
       "    </tr>\n",
       "    <tr>\n",
       "      <th>246</th>\n",
       "      <td>JPCNN093.png</td>\n",
       "      <td>NaN</td>\n",
       "      <td>NaN</td>\n",
       "      <td>41</td>\n",
       "      <td>Male</td>\n",
       "      <td>NaN</td>\n",
       "      <td>NaN</td>\n",
       "      <td>non-nodule</td>\n",
       "      <td>NaN</td>\n",
       "      <td>NaN</td>\n",
       "    </tr>\n",
       "  </tbody>\n",
       "</table>\n",
       "<p>247 rows × 10 columns</p>\n",
       "</div>"
      ],
      "text/plain": [
       "         study_id  subtlety  size age  gender       x       y       state  \\\n",
       "0    JPCLN001.png       5.0  15.0  53    Male  1634.0   692.0   malignant   \n",
       "1    JPCLN002.png       5.0  30.0  78  Female  1614.0  1090.0      benign   \n",
       "2    JPCLN003.png       5.0  30.0  63  Female  1303.0   447.0   malignant   \n",
       "3    JPCLN004.png       5.0  14.0  68  Female   606.0   836.0      benign   \n",
       "4    JPCLN005.png       5.0  35.0  73  Female  1438.0   692.0   malignant   \n",
       "..            ...       ...   ...  ..     ...     ...     ...         ...   \n",
       "242  JPCNN089.png       NaN   NaN  50    Male     NaN     NaN  non-nodule   \n",
       "243  JPCNN090.png       NaN   NaN  68  Female     NaN     NaN  non-nodule   \n",
       "244  JPCNN091.png       NaN   NaN  81    Male     NaN     NaN  non-nodule   \n",
       "245  JPCNN092.png       NaN   NaN  70  Female     NaN     NaN  non-nodule   \n",
       "246  JPCNN093.png       NaN   NaN  41    Male     NaN     NaN  non-nodule   \n",
       "\n",
       "               position           diagnosis  \n",
       "0          l.upper lobe         lung cancer  \n",
       "1      l.upper lobe(S5)  pulmonary hematoma  \n",
       "2    l.upper lobe(S1+2)         lung cancer  \n",
       "3          r.upper lobe   Inflammatory mass  \n",
       "4      l.upper lobe(S3)         lung cancer  \n",
       "..                  ...                 ...  \n",
       "242                 NaN                 NaN  \n",
       "243                 NaN                 NaN  \n",
       "244                 NaN                 NaN  \n",
       "245                 NaN                 NaN  \n",
       "246                 NaN                 NaN  \n",
       "\n",
       "[247 rows x 10 columns]"
      ]
     },
     "execution_count": 7,
     "metadata": {},
     "output_type": "execute_result"
    }
   ],
   "source": [
    "df"
   ]
  },
  {
   "cell_type": "code",
   "execution_count": 8,
   "id": "791afb04",
   "metadata": {},
   "outputs": [
    {
     "data": {
      "text/html": [
       "<div>\n",
       "<style scoped>\n",
       "    .dataframe tbody tr th:only-of-type {\n",
       "        vertical-align: middle;\n",
       "    }\n",
       "\n",
       "    .dataframe tbody tr th {\n",
       "        vertical-align: top;\n",
       "    }\n",
       "\n",
       "    .dataframe thead th {\n",
       "        text-align: right;\n",
       "    }\n",
       "</style>\n",
       "<table border=\"1\" class=\"dataframe\">\n",
       "  <thead>\n",
       "    <tr style=\"text-align: right;\">\n",
       "      <th></th>\n",
       "      <th>study_id</th>\n",
       "      <th>subtlety</th>\n",
       "      <th>size</th>\n",
       "      <th>age</th>\n",
       "      <th>gender</th>\n",
       "      <th>x</th>\n",
       "      <th>y</th>\n",
       "      <th>state</th>\n",
       "      <th>position</th>\n",
       "      <th>diagnosis</th>\n",
       "    </tr>\n",
       "  </thead>\n",
       "  <tbody>\n",
       "    <tr>\n",
       "      <th>0</th>\n",
       "      <td>False</td>\n",
       "      <td>False</td>\n",
       "      <td>False</td>\n",
       "      <td>False</td>\n",
       "      <td>False</td>\n",
       "      <td>False</td>\n",
       "      <td>False</td>\n",
       "      <td>False</td>\n",
       "      <td>False</td>\n",
       "      <td>False</td>\n",
       "    </tr>\n",
       "    <tr>\n",
       "      <th>1</th>\n",
       "      <td>False</td>\n",
       "      <td>False</td>\n",
       "      <td>False</td>\n",
       "      <td>False</td>\n",
       "      <td>False</td>\n",
       "      <td>False</td>\n",
       "      <td>False</td>\n",
       "      <td>False</td>\n",
       "      <td>False</td>\n",
       "      <td>False</td>\n",
       "    </tr>\n",
       "    <tr>\n",
       "      <th>2</th>\n",
       "      <td>False</td>\n",
       "      <td>False</td>\n",
       "      <td>False</td>\n",
       "      <td>False</td>\n",
       "      <td>False</td>\n",
       "      <td>False</td>\n",
       "      <td>False</td>\n",
       "      <td>False</td>\n",
       "      <td>False</td>\n",
       "      <td>False</td>\n",
       "    </tr>\n",
       "    <tr>\n",
       "      <th>3</th>\n",
       "      <td>False</td>\n",
       "      <td>False</td>\n",
       "      <td>False</td>\n",
       "      <td>False</td>\n",
       "      <td>False</td>\n",
       "      <td>False</td>\n",
       "      <td>False</td>\n",
       "      <td>False</td>\n",
       "      <td>False</td>\n",
       "      <td>False</td>\n",
       "    </tr>\n",
       "    <tr>\n",
       "      <th>4</th>\n",
       "      <td>False</td>\n",
       "      <td>False</td>\n",
       "      <td>False</td>\n",
       "      <td>False</td>\n",
       "      <td>False</td>\n",
       "      <td>False</td>\n",
       "      <td>False</td>\n",
       "      <td>False</td>\n",
       "      <td>False</td>\n",
       "      <td>False</td>\n",
       "    </tr>\n",
       "    <tr>\n",
       "      <th>...</th>\n",
       "      <td>...</td>\n",
       "      <td>...</td>\n",
       "      <td>...</td>\n",
       "      <td>...</td>\n",
       "      <td>...</td>\n",
       "      <td>...</td>\n",
       "      <td>...</td>\n",
       "      <td>...</td>\n",
       "      <td>...</td>\n",
       "      <td>...</td>\n",
       "    </tr>\n",
       "    <tr>\n",
       "      <th>242</th>\n",
       "      <td>False</td>\n",
       "      <td>True</td>\n",
       "      <td>True</td>\n",
       "      <td>False</td>\n",
       "      <td>False</td>\n",
       "      <td>True</td>\n",
       "      <td>True</td>\n",
       "      <td>False</td>\n",
       "      <td>True</td>\n",
       "      <td>True</td>\n",
       "    </tr>\n",
       "    <tr>\n",
       "      <th>243</th>\n",
       "      <td>False</td>\n",
       "      <td>True</td>\n",
       "      <td>True</td>\n",
       "      <td>False</td>\n",
       "      <td>False</td>\n",
       "      <td>True</td>\n",
       "      <td>True</td>\n",
       "      <td>False</td>\n",
       "      <td>True</td>\n",
       "      <td>True</td>\n",
       "    </tr>\n",
       "    <tr>\n",
       "      <th>244</th>\n",
       "      <td>False</td>\n",
       "      <td>True</td>\n",
       "      <td>True</td>\n",
       "      <td>False</td>\n",
       "      <td>False</td>\n",
       "      <td>True</td>\n",
       "      <td>True</td>\n",
       "      <td>False</td>\n",
       "      <td>True</td>\n",
       "      <td>True</td>\n",
       "    </tr>\n",
       "    <tr>\n",
       "      <th>245</th>\n",
       "      <td>False</td>\n",
       "      <td>True</td>\n",
       "      <td>True</td>\n",
       "      <td>False</td>\n",
       "      <td>False</td>\n",
       "      <td>True</td>\n",
       "      <td>True</td>\n",
       "      <td>False</td>\n",
       "      <td>True</td>\n",
       "      <td>True</td>\n",
       "    </tr>\n",
       "    <tr>\n",
       "      <th>246</th>\n",
       "      <td>False</td>\n",
       "      <td>True</td>\n",
       "      <td>True</td>\n",
       "      <td>False</td>\n",
       "      <td>False</td>\n",
       "      <td>True</td>\n",
       "      <td>True</td>\n",
       "      <td>False</td>\n",
       "      <td>True</td>\n",
       "      <td>True</td>\n",
       "    </tr>\n",
       "  </tbody>\n",
       "</table>\n",
       "<p>247 rows × 10 columns</p>\n",
       "</div>"
      ],
      "text/plain": [
       "     study_id  subtlety   size    age  gender      x      y  state  position  \\\n",
       "0       False     False  False  False   False  False  False  False     False   \n",
       "1       False     False  False  False   False  False  False  False     False   \n",
       "2       False     False  False  False   False  False  False  False     False   \n",
       "3       False     False  False  False   False  False  False  False     False   \n",
       "4       False     False  False  False   False  False  False  False     False   \n",
       "..        ...       ...    ...    ...     ...    ...    ...    ...       ...   \n",
       "242     False      True   True  False   False   True   True  False      True   \n",
       "243     False      True   True  False   False   True   True  False      True   \n",
       "244     False      True   True  False   False   True   True  False      True   \n",
       "245     False      True   True  False   False   True   True  False      True   \n",
       "246     False      True   True  False   False   True   True  False      True   \n",
       "\n",
       "     diagnosis  \n",
       "0        False  \n",
       "1        False  \n",
       "2        False  \n",
       "3        False  \n",
       "4        False  \n",
       "..         ...  \n",
       "242       True  \n",
       "243       True  \n",
       "244       True  \n",
       "245       True  \n",
       "246       True  \n",
       "\n",
       "[247 rows x 10 columns]"
      ]
     },
     "execution_count": 8,
     "metadata": {},
     "output_type": "execute_result"
    }
   ],
   "source": [
    "df.isnull()"
   ]
  },
  {
   "cell_type": "code",
   "execution_count": 9,
   "id": "2777257f",
   "metadata": {},
   "outputs": [
    {
     "data": {
      "text/plain": [
       "study_id      0\n",
       "subtlety     93\n",
       "size         93\n",
       "age           2\n",
       "gender        0\n",
       "x            93\n",
       "y            93\n",
       "state         0\n",
       "position     93\n",
       "diagnosis    93\n",
       "dtype: int64"
      ]
     },
     "execution_count": 9,
     "metadata": {},
     "output_type": "execute_result"
    }
   ],
   "source": [
    "df.isnull().sum()"
   ]
  },
  {
   "cell_type": "code",
   "execution_count": 10,
   "id": "2ff52eee",
   "metadata": {},
   "outputs": [],
   "source": [
    "d = df['diagnosis'].value_counts().idxmax()"
   ]
  },
  {
   "cell_type": "code",
   "execution_count": 11,
   "id": "da917636",
   "metadata": {},
   "outputs": [
    {
     "data": {
      "text/plain": [
       "'lung cancer'"
      ]
     },
     "execution_count": 11,
     "metadata": {},
     "output_type": "execute_result"
    }
   ],
   "source": [
    "d"
   ]
  },
  {
   "cell_type": "code",
   "execution_count": 12,
   "id": "fb8f8721",
   "metadata": {},
   "outputs": [],
   "source": [
    "df['diagnosis'].replace(np.nan, d, inplace=True)"
   ]
  },
  {
   "cell_type": "code",
   "execution_count": 13,
   "id": "bec71790",
   "metadata": {},
   "outputs": [
    {
     "data": {
      "text/plain": [
       "study_id      0\n",
       "subtlety     93\n",
       "size         93\n",
       "age           2\n",
       "gender        0\n",
       "x            93\n",
       "y            93\n",
       "state         0\n",
       "position     93\n",
       "diagnosis     0\n",
       "dtype: int64"
      ]
     },
     "execution_count": 13,
     "metadata": {},
     "output_type": "execute_result"
    }
   ],
   "source": [
    "df.isnull().sum()"
   ]
  },
  {
   "cell_type": "code",
   "execution_count": 14,
   "id": "66dd8ddf",
   "metadata": {},
   "outputs": [],
   "source": [
    "import matplotlib as plt\n",
    "from matplotlib import pyplot"
   ]
  },
  {
   "cell_type": "code",
   "execution_count": 15,
   "id": "3d971fc9",
   "metadata": {},
   "outputs": [
    {
     "data": {
      "text/plain": [
       "(array([30.,  1.,  0.,  0.,  0.,  0.,  0.,  0.,  0.,  1.]),\n",
       " array([  1. ,  15.8,  30.6,  45.4,  60.2,  75. ,  89.8, 104.6, 119.4,\n",
       "        134.2, 149. ]),\n",
       " <BarContainer object of 10 artists>)"
      ]
     },
     "execution_count": 15,
     "metadata": {},
     "output_type": "execute_result"
    },
    {
     "data": {
      "image/png": "[encoded data removed]",
      "text/plain": [
       "<Figure size 432x288 with 1 Axes>"
      ]
     },
     "metadata": {
      "needs_background": "light"
     },
     "output_type": "display_data"
    }
   ],
   "source": [
    "plt.pyplot.title(\" Number of patients of each disease (diagnosis)\")\n",
    "plt.pyplot.xlabel(\"diagnosis\")\n",
    "plt.pyplot.ylabel(\"Patient's\")\n",
    "plt.pyplot.hist(df['diagnosis'].value_counts())"
   ]
  },
  {
   "cell_type": "code",
   "execution_count": 16,
   "id": "455d7298",
   "metadata": {},
   "outputs": [
    {
     "data": {
      "text/plain": [
       "0    malignant\n",
       "1       benign\n",
       "2    malignant\n",
       "3       benign\n",
       "4    malignant\n",
       "5       benign\n",
       "6    malignant\n",
       "7       benign\n",
       "8    malignant\n",
       "9    malignant\n",
       "Name: state, dtype: object"
      ]
     },
     "execution_count": 16,
     "metadata": {},
     "output_type": "execute_result"
    }
   ],
   "source": [
    "df['state'].head(10)"
   ]
  },
  {
   "cell_type": "code",
   "execution_count": 17,
   "id": "7c00b062",
   "metadata": {},
   "outputs": [],
   "source": [
    "st=df['state'].value_counts().idxmax()"
   ]
  },
  {
   "cell_type": "code",
   "execution_count": 18,
   "id": "f937f472",
   "metadata": {},
   "outputs": [
    {
     "data": {
      "text/plain": [
       "'malignant'"
      ]
     },
     "execution_count": 18,
     "metadata": {},
     "output_type": "execute_result"
    }
   ],
   "source": [
    "st"
   ]
  },
  {
   "cell_type": "code",
   "execution_count": 19,
   "id": "8062ee72",
   "metadata": {},
   "outputs": [],
   "source": [
    "df['state'].replace(np.nan,st,inplace=True)"
   ]
  },
  {
   "cell_type": "code",
   "execution_count": 20,
   "id": "89631b5c",
   "metadata": {},
   "outputs": [
    {
     "data": {
      "text/plain": [
       "malignant     100\n",
       "non-nodule     93\n",
       "benign         54\n",
       "Name: state, dtype: int64"
      ]
     },
     "execution_count": 20,
     "metadata": {},
     "output_type": "execute_result"
    }
   ],
   "source": [
    "df['state'].value_counts()"
   ]
  },
  {
   "cell_type": "code",
   "execution_count": 21,
   "id": "c18910c3",
   "metadata": {},
   "outputs": [],
   "source": [
    "b=df['diagnosis'].value_counts()"
   ]
  },
  {
   "cell_type": "code",
   "execution_count": 22,
   "id": "6bca4260",
   "metadata": {},
   "outputs": [
    {
     "data": {
      "text/plain": [
       "lung cancer                                       149\n",
       "lung cancer(adenocarcinoma)                        23\n",
       "tuberculoma                                        14\n",
       "granuloma                                           8\n",
       "lung cancer(bronchioloalveolar cell carcinoma)      7\n",
       "inflammatory mass                                   4\n",
       "metastasis of colon cancer                          4\n",
       "unknown                                             4\n",
       "pulmonary tuberculosis                              3\n",
       "lung abscess                                        2\n",
       "hamartoma                                           2\n",
       "susp. inflammatory mass                             2\n",
       "pulmonary hematoma                                  2\n",
       "Cryptococcosis                                      2\n",
       "Inflammatory mass                                   2\n",
       "lung cancer(squamous cell carcinoma)                2\n",
       "sclerosing hemangioma                               2\n",
       "susp. sclerosing hemangioma                         1\n",
       "calcified granuloma                                 1\n",
       "lung canceror metastasis                            1\n",
       "susp. hamartoma                                     1\n",
       "susp. lung metastasis                               1\n",
       "lung cancer(large cell carcinoma)                   1\n",
       "pneumonia                                           1\n",
       "metastatic lung cancer                              1\n",
       "organiging pneumonia                                1\n",
       "susp.tuberculoma                                    1\n",
       "organizing pneumonia                                1\n",
       "metastasis of ovarian cancer                        1\n",
       "metastasis of uterine cancer                        1\n",
       "lung cancer(adenosquamous carcinoma)                1\n",
       "lung cancer(small cell carcinoma)                   1\n",
       "Name: diagnosis, dtype: int64"
      ]
     },
     "execution_count": 22,
     "metadata": {},
     "output_type": "execute_result"
    }
   ],
   "source": [
    "b"
   ]
  },
  {
   "cell_type": "code",
   "execution_count": 23,
   "id": "e6fa69bf",
   "metadata": {},
   "outputs": [],
   "source": [
    "diagnosis_data=df['diagnosis']\n"
   ]
  },
  {
   "cell_type": "code",
   "execution_count": 24,
   "id": "22140209",
   "metadata": {},
   "outputs": [
    {
     "data": {
      "text/plain": [
       "0             lung cancer\n",
       "1      pulmonary hematoma\n",
       "2             lung cancer\n",
       "3       Inflammatory mass\n",
       "4             lung cancer\n",
       "              ...        \n",
       "242           lung cancer\n",
       "243           lung cancer\n",
       "244           lung cancer\n",
       "245           lung cancer\n",
       "246           lung cancer\n",
       "Name: diagnosis, Length: 247, dtype: object"
      ]
     },
     "execution_count": 24,
     "metadata": {},
     "output_type": "execute_result"
    }
   ],
   "source": [
    "diagnosis_data"
   ]
  },
  {
   "cell_type": "code",
   "execution_count": 25,
   "id": "ce83c3b8",
   "metadata": {},
   "outputs": [],
   "source": [
    "state_data=df['state']"
   ]
  },
  {
   "cell_type": "code",
   "execution_count": 26,
   "id": "a310f3f4",
   "metadata": {},
   "outputs": [
    {
     "data": {
      "text/plain": [
       "0       malignant\n",
       "1          benign\n",
       "2       malignant\n",
       "3          benign\n",
       "4       malignant\n",
       "          ...    \n",
       "242    non-nodule\n",
       "243    non-nodule\n",
       "244    non-nodule\n",
       "245    non-nodule\n",
       "246    non-nodule\n",
       "Name: state, Length: 247, dtype: object"
      ]
     },
     "execution_count": 26,
     "metadata": {},
     "output_type": "execute_result"
    }
   ],
   "source": [
    "state_data"
   ]
  },
  {
   "cell_type": "code",
   "execution_count": 45,
   "id": "0dd53cfe",
   "metadata": {},
   "outputs": [
    {
     "data": {
      "text/plain": [
       "242    NaN\n",
       "243    NaN\n",
       "244    NaN\n",
       "245    NaN\n",
       "246    NaN\n",
       "Name: state, dtype: object"
      ]
     },
     "execution_count": 45,
     "metadata": {},
     "output_type": "execute_result"
    }
   ],
   "source": [
    "df['state'].replace('non-nodule',np.nan,inplace=True)\n",
    "df['state'].tail()"
   ]
  },
  {
   "cell_type": "code",
   "execution_count": 46,
   "id": "8404ea3b",
   "metadata": {},
   "outputs": [
    {
     "data": {
      "text/plain": [
       "([<matplotlib.patches.Wedge at 0x1d213eb64f0>,\n",
       "  <matplotlib.patches.Wedge at 0x1d213e62e50>,\n",
       "  <matplotlib.patches.Wedge at 0x1d213f25f40>,\n",
       "  <matplotlib.patches.Wedge at 0x1d213f87ca0>,\n",
       "  <matplotlib.patches.Wedge at 0x1d213feca90>,\n",
       "  <matplotlib.patches.Wedge at 0x1d21403ef70>,\n",
       "  <matplotlib.patches.Wedge at 0x1d213ee6f40>,\n",
       "  <matplotlib.patches.Wedge at 0x1d213eee3a0>,\n",
       "  <matplotlib.patches.Wedge at 0x1d214063280>,\n",
       "  <matplotlib.patches.Wedge at 0x1d2140c5220>,\n",
       "  <matplotlib.patches.Wedge at 0x1d21411af70>,\n",
       "  <matplotlib.patches.Wedge at 0x1d21417cb20>,\n",
       "  <matplotlib.patches.Wedge at 0x1d214090970>,\n",
       "  <matplotlib.patches.Wedge at 0x1d2141ef3d0>,\n",
       "  <matplotlib.patches.Wedge at 0x1d21405e160>,\n",
       "  <matplotlib.patches.Wedge at 0x1d2141ee3a0>,\n",
       "  <matplotlib.patches.Wedge at 0x1d2141dec10>,\n",
       "  <matplotlib.patches.Wedge at 0x1d2141ecb80>,\n",
       "  <matplotlib.patches.Wedge at 0x1d2142555b0>,\n",
       "  <matplotlib.patches.Wedge at 0x1d2142ba7c0>,\n",
       "  <matplotlib.patches.Wedge at 0x1d214212ee0>,\n",
       "  <matplotlib.patches.Wedge at 0x1d213e8f310>,\n",
       "  <matplotlib.patches.Wedge at 0x1d214073250>,\n",
       "  <matplotlib.patches.Wedge at 0x1d2140730a0>,\n",
       "  <matplotlib.patches.Wedge at 0x1d21431c8e0>,\n",
       "  <matplotlib.patches.Wedge at 0x1d2141f8490>,\n",
       "  <matplotlib.patches.Wedge at 0x1d2141f8fd0>,\n",
       "  <matplotlib.patches.Wedge at 0x1d21432f700>,\n",
       "  <matplotlib.patches.Wedge at 0x1d213b288b0>,\n",
       "  <matplotlib.patches.Wedge at 0x1d2141e9430>,\n",
       "  <matplotlib.patches.Wedge at 0x1d2141e9f10>,\n",
       "  <matplotlib.patches.Wedge at 0x1d21395ee50>],\n",
       " [Text(-0.4727744371133216, 0.9932191760191615, ''),\n",
       "  Text(-0.9731088100702754, -0.5128930139547748, ''),\n",
       "  Text(-0.3574176017051061, -1.0403137305598589, ''),\n",
       "  Text(0.12935308842568485, -1.0923679684587686, ''),\n",
       "  Text(0.4524158637341026, -1.002656414850933, ''),\n",
       "  Text(0.6641848990031542, -0.8768457218554299, ''),\n",
       "  Text(0.7978260293528064, -0.757280414963397, ''),\n",
       "  Text(0.9102648905535687, -0.6175903407806018, ''),\n",
       "  Text(0.9888919751598115, -0.48175996249639397, ''),\n",
       "  Text(1.0328064792768863, -0.3785640980913041, ''),\n",
       "  Text(1.0602263893074164, -0.2931211411961934, ''),\n",
       "  Text(1.0805906676552814, -0.20572751147163856, ''),\n",
       "  Text(1.0937637934081985, -0.11696479910343885, ''),\n",
       "  Text(1.099658101587858, -0.02742370529648729, ''),\n",
       "  Text(1.0982343665458894, 0.06229988874427879, ''),\n",
       "  Text(1.0895020630040797, 0.15160888730498162, ''),\n",
       "  Text(1.073519303001663, 0.23990895373625376, ''),\n",
       "  Text(1.0568363086979262, 0.3051180371884657, ''),\n",
       "  Text(1.0435114755235775, 0.34797097644862074, ''),\n",
       "  Text(1.0284498204847314, 0.3902447523605202, ''),\n",
       "  Text(1.0116764122197313, 0.43186900439625514, ''),\n",
       "  Text(0.9932191684112283, 0.4727744530963029, ''),\n",
       "  Text(0.9731088093199552, 0.512893015378353, ''),\n",
       "  Text(0.9513788066538815, 0.5521579178548801, ''),\n",
       "  Text(0.9280653278578622, 0.5905038079708538, ''),\n",
       "  Text(0.9032071759164938, 0.6278668627766177, ''),\n",
       "  Text(0.8768457247703743, 0.6641848951548939, ''),\n",
       "  Text(0.8490248504532655, 0.6993974573250967, ''),\n",
       "  Text(0.8197908580647638, 0.7334459414527007, ''),\n",
       "  Text(0.7891924047000298, 0.7662736771961991, ''),\n",
       "  Text(0.7572804184648595, 0.7978260260292889, ''),\n",
       "  Text(0.724108013710874, 0.8280504721813116, '')],\n",
       " [Text(-0.2578769656981754, 0.5417559141922699, '36.4%'),\n",
       "  Text(-0.5307866236746956, -0.2797598257935135, '14.9%'),\n",
       "  Text(-0.1949550554755124, -0.5674438530326502, '9.1%'),\n",
       "  Text(0.07055623005037355, -0.5958370737047828, '5.2%'),\n",
       "  Text(0.24677228930951048, -0.5469034990095997, '4.5%'),\n",
       "  Text(0.36228267218353866, -0.47827948464841624, '2.6%'),\n",
       "  Text(0.4351778341924399, -0.4130620445254892, '2.6%'),\n",
       "  Text(0.4965081221201283, -0.3368674586076009, '2.6%'),\n",
       "  Text(0.5393956228144425, -0.2627781613616694, '1.9%'),\n",
       "  Text(0.5633489886964834, -0.20648950804980223, '1.3%'),\n",
       "  Text(0.5783053032585908, -0.1598842588342873, '1.3%'),\n",
       "  Text(0.5894130914483353, -0.11221500625725739, '1.3%'),\n",
       "  Text(0.5965984327681082, -0.06379898132914845, '1.3%'),\n",
       "  Text(0.5998135099570133, -0.014958384707174883, '1.3%'),\n",
       "  Text(0.5990369272068486, 0.03398175749687934, '1.3%'),\n",
       "  Text(0.5942738525476797, 0.08269575671180815, '1.3%'),\n",
       "  Text(0.5855559834554525, 0.13085942931068384, '1.3%'),\n",
       "  Text(0.5764561683806869, 0.16642802028461762, '0.6%'),\n",
       "  Text(0.5691880775583149, 0.18980235079015675, '0.6%'),\n",
       "  Text(0.560972629355308, 0.21286077401482917, '0.6%'),\n",
       "  Text(0.5518234975743987, 0.2355649114888664, '0.6%'),\n",
       "  Text(0.541755910042488, 0.2578769744161652, '0.6%'),\n",
       "  Text(0.53078662326543, 0.27975982657001064, '0.6%'),\n",
       "  Text(0.5189338945384807, 0.3011770461026619, '0.6%'),\n",
       "  Text(0.5062174515588339, 0.32209298616592025, '0.6%'),\n",
       "  Text(0.4926584595908147, 0.3424728342417914, '0.6%'),\n",
       "  Text(0.4782794862383859, 0.3622826700844875, '0.6%'),\n",
       "  Text(0.46310446388359927, 0.38148952217732546, '0.6%'),\n",
       "  Text(0.4471586498535075, 0.400061422610564, '0.6%'),\n",
       "  Text(0.4304685843818344, 0.4179674602888358, '0.6%'),\n",
       "  Text(0.41306204643537786, 0.43517783237961205, '0.6%'),\n",
       "  Text(0.39496800747865846, 0.45166389391707895, '0.6%')])"
      ]
     },
     "execution_count": 46,
     "metadata": {},
     "output_type": "execute_result"
    },
    {
     "data": {
      "image/png": "[encoded data removed]",
      "text/plain": [
       "<Figure size 432x288 with 1 Axes>"
      ]
     },
     "metadata": {},
     "output_type": "display_data"
    }
   ],
   "source": [
    "plt.pyplot.pie(df[['diagnosis', 'state']].value_counts(), shadow=True,autopct='%1.1f%%', startangle=50,)\n",
    "\n",
    "\n"
   ]
  },
  {
   "cell_type": "code",
   "execution_count": 33,
   "id": "9f997128",
   "metadata": {},
   "outputs": [
    {
     "data": {
      "text/plain": [
       "237    NaN\n",
       "238    NaN\n",
       "239    NaN\n",
       "240    NaN\n",
       "241    NaN\n",
       "242    NaN\n",
       "243    NaN\n",
       "244    NaN\n",
       "245    NaN\n",
       "246    NaN\n",
       "Name: state, dtype: object"
      ]
     },
     "execution_count": 33,
     "metadata": {},
     "output_type": "execute_result"
    }
   ],
   "source": [
    "\n",
    "df['state'].replace('non-nodule',np.nan,inplace=True)\n",
    "df['state'].tail(10)"
   ]
  },
  {
   "cell_type": "code",
   "execution_count": 56,
   "id": "e8d56af1",
   "metadata": {},
   "outputs": [
    {
     "data": {
      "text/plain": [
       "([<matplotlib.patches.Wedge at 0x1d21584f4f0>,\n",
       "  <matplotlib.patches.Wedge at 0x1d21584fe50>],\n",
       " [Text(-1.0713000475668264, 0.2496321455328136, 'MALIGNANT'),\n",
       "  Text(1.0713000475668264, -0.24963214553281324, 'BENIGN')],\n",
       " [Text(-0.5843454804909961, 0.13616298847244376, '64.9%'),\n",
       "  Text(0.5843454804909961, -0.13616298847244357, '35.1%')])"
      ]
     },
     "execution_count": 56,
     "metadata": {},
     "output_type": "execute_result"
    },
    {
     "data": {
      "image/png": "[encoded data removed]",
      "text/plain": [
       "<Figure size 432x288 with 1 Axes>"
      ]
     },
     "metadata": {},
     "output_type": "display_data"
    }
   ],
   "source": [
    "\n",
    "plt.pyplot.pie(df['state'].value_counts(),explode=[0,0],\n",
    "               shadow=True,labels=['MALIGNANT','BENIGN'],autopct='%0.1f%%',\n",
    "              startangle=50)"
   ]
  },
  {
   "cell_type": "code",
   "execution_count": 43,
   "id": "ea0d4b07",
   "metadata": {},
   "outputs": [
    {
     "data": {
      "text/plain": [
       "<bound method IndexOpsMixin.value_counts of 0        Male\n",
       "1      Female\n",
       "2      Female\n",
       "3      Female\n",
       "4      Female\n",
       "        ...  \n",
       "242      Male\n",
       "243    Female\n",
       "244      Male\n",
       "245    Female\n",
       "246      Male\n",
       "Name: gender, Length: 247, dtype: object>"
      ]
     },
     "execution_count": 43,
     "metadata": {},
     "output_type": "execute_result"
    }
   ],
   "source": [
    "df['gender'].value_counts"
   ]
  },
  {
   "cell_type": "code",
   "execution_count": 44,
   "id": "8fd063b5",
   "metadata": {},
   "outputs": [
    {
     "data": {
      "text/plain": [
       "([<matplotlib.patches.Wedge at 0x1d214358ee0>,\n",
       "  <matplotlib.patches.Wedge at 0x1d2143667f0>],\n",
       " [Text(-0.8817162744686301, 0.6577054137964501, 'Male'),\n",
       "  Text(0.88171627446863, -0.6577054137964502, 'Female')],\n",
       " [Text(-0.4809361497101618, 0.3587484075253364, '51.8%'),\n",
       "  Text(0.48093614971016174, -0.35874840752533643, '48.2%')])"
      ]
     },
     "execution_count": 44,
     "metadata": {},
     "output_type": "execute_result"
    },
    {
     "data": {
      "image/png": "[encoded data removed]",
      "text/plain": [
       "<Figure size 432x288 with 1 Axes>"
      ]
     },
     "metadata": {},
     "output_type": "display_data"
    }
   ],
   "source": [
    "\n",
    "plt.pyplot.pie(df['gender'].value_counts(),explode=[0,0],\n",
    "               shadow=True,labels=['Male','Female'],autopct='%0.1f%%',\n",
    "              startangle=50)"
   ]
  },
  {
   "cell_type": "code",
   "execution_count": null,
   "id": "6d87b562",
   "metadata": {},
   "outputs": [],
   "source": []
  }
 ],
 "metadata": {
  "kernelspec": {
   "display_name": "Python 3",
   "language": "python",
   "name": "python3"
  },
  "language_info": {
   "codemirror_mode": {
    "name": "ipython",
    "version": 3
   },
   "file_extension": ".py",
   "mimetype": "text/x-python",
   "name": "python",
   "nbconvert_exporter": "python",
   "pygments_lexer": "ipython3",
   "version": "3.8.8"
  }
 },
 "nbformat": 4,
 "nbformat_minor": 5
}
