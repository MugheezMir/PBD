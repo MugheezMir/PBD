{
 "cells": [
  {
   "cell_type": "code",
   "execution_count": 1,
   "id": "9ad4fb7c",
   "metadata": {},
   "outputs": [],
   "source": [
    "import pandas as pd"
   ]
  },
  {
   "cell_type": "code",
   "execution_count": 2,
   "id": "ee210319",
   "metadata": {},
   "outputs": [],
   "source": [
    "df=pd.read_csv('jsrt_metadata.csv')"
   ]
  },
  {
   "cell_type": "code",
   "execution_count": 3,
   "id": "0d698a9f",
   "metadata": {},
   "outputs": [
    {
     "data": {
      "text/html": [
       "<div>\n",
       "<style scoped>\n",
       "    .dataframe tbody tr th:only-of-type {\n",
       "        vertical-align: middle;\n",
       "    }\n",
       "\n",
       "    .dataframe tbody tr th {\n",
       "        vertical-align: top;\n",
       "    }\n",
       "\n",
       "    .dataframe thead th {\n",
       "        text-align: right;\n",
       "    }\n",
       "</style>\n",
       "<table border=\"1\" class=\"dataframe\">\n",
       "  <thead>\n",
       "    <tr style=\"text-align: right;\">\n",
       "      <th></th>\n",
       "      <th>study_id</th>\n",
       "      <th>subtlety</th>\n",
       "      <th>size</th>\n",
       "      <th>age</th>\n",
       "      <th>gender</th>\n",
       "      <th>x</th>\n",
       "      <th>y</th>\n",
       "      <th>state</th>\n",
       "      <th>position</th>\n",
       "      <th>diagnosis</th>\n",
       "    </tr>\n",
       "  </thead>\n",
       "  <tbody>\n",
       "    <tr>\n",
       "      <th>0</th>\n",
       "      <td>JPCLN001.png</td>\n",
       "      <td>5.0</td>\n",
       "      <td>15.0</td>\n",
       "      <td>53</td>\n",
       "      <td>Male</td>\n",
       "      <td>1634.0</td>\n",
       "      <td>692.0</td>\n",
       "      <td>malignant</td>\n",
       "      <td>l.upper lobe</td>\n",
       "      <td>lung cancer</td>\n",
       "    </tr>\n",
       "    <tr>\n",
       "      <th>1</th>\n",
       "      <td>JPCLN002.png</td>\n",
       "      <td>5.0</td>\n",
       "      <td>30.0</td>\n",
       "      <td>78</td>\n",
       "      <td>Female</td>\n",
       "      <td>1614.0</td>\n",
       "      <td>1090.0</td>\n",
       "      <td>benign</td>\n",
       "      <td>l.upper lobe(S5)</td>\n",
       "      <td>pulmonary hematoma</td>\n",
       "    </tr>\n",
       "    <tr>\n",
       "      <th>2</th>\n",
       "      <td>JPCLN003.png</td>\n",
       "      <td>5.0</td>\n",
       "      <td>30.0</td>\n",
       "      <td>63</td>\n",
       "      <td>Female</td>\n",
       "      <td>1303.0</td>\n",
       "      <td>447.0</td>\n",
       "      <td>malignant</td>\n",
       "      <td>l.upper lobe(S1+2)</td>\n",
       "      <td>lung cancer</td>\n",
       "    </tr>\n",
       "    <tr>\n",
       "      <th>3</th>\n",
       "      <td>JPCLN004.png</td>\n",
       "      <td>5.0</td>\n",
       "      <td>14.0</td>\n",
       "      <td>68</td>\n",
       "      <td>Female</td>\n",
       "      <td>606.0</td>\n",
       "      <td>836.0</td>\n",
       "      <td>benign</td>\n",
       "      <td>r.upper lobe</td>\n",
       "      <td>Inflammatory mass</td>\n",
       "    </tr>\n",
       "    <tr>\n",
       "      <th>4</th>\n",
       "      <td>JPCLN005.png</td>\n",
       "      <td>5.0</td>\n",
       "      <td>35.0</td>\n",
       "      <td>73</td>\n",
       "      <td>Female</td>\n",
       "      <td>1438.0</td>\n",
       "      <td>692.0</td>\n",
       "      <td>malignant</td>\n",
       "      <td>l.upper lobe(S3)</td>\n",
       "      <td>lung cancer</td>\n",
       "    </tr>\n",
       "    <tr>\n",
       "      <th>...</th>\n",
       "      <td>...</td>\n",
       "      <td>...</td>\n",
       "      <td>...</td>\n",
       "      <td>...</td>\n",
       "      <td>...</td>\n",
       "      <td>...</td>\n",
       "      <td>...</td>\n",
       "      <td>...</td>\n",
       "      <td>...</td>\n",
       "      <td>...</td>\n",
       "    </tr>\n",
       "    <tr>\n",
       "      <th>242</th>\n",
       "      <td>JPCNN089.png</td>\n",
       "      <td>NaN</td>\n",
       "      <td>NaN</td>\n",
       "      <td>50</td>\n",
       "      <td>Male</td>\n",
       "      <td>NaN</td>\n",
       "      <td>NaN</td>\n",
       "      <td>non-nodule</td>\n",
       "      <td>NaN</td>\n",
       "      <td>NaN</td>\n",
       "    </tr>\n",
       "    <tr>\n",
       "      <th>243</th>\n",
       "      <td>JPCNN090.png</td>\n",
       "      <td>NaN</td>\n",
       "      <td>NaN</td>\n",
       "      <td>68</td>\n",
       "      <td>Female</td>\n",
       "      <td>NaN</td>\n",
       "      <td>NaN</td>\n",
       "      <td>non-nodule</td>\n",
       "      <td>NaN</td>\n",
       "      <td>NaN</td>\n",
       "    </tr>\n",
       "    <tr>\n",
       "      <th>244</th>\n",
       "      <td>JPCNN091.png</td>\n",
       "      <td>NaN</td>\n",
       "      <td>NaN</td>\n",
       "      <td>81</td>\n",
       "      <td>Male</td>\n",
       "      <td>NaN</td>\n",
       "      <td>NaN</td>\n",
       "      <td>non-nodule</td>\n",
       "      <td>NaN</td>\n",
       "      <td>NaN</td>\n",
       "    </tr>\n",
       "    <tr>\n",
       "      <th>245</th>\n",
       "      <td>JPCNN092.png</td>\n",
       "      <td>NaN</td>\n",
       "      <td>NaN</td>\n",
       "      <td>70</td>\n",
       "      <td>Female</td>\n",
       "      <td>NaN</td>\n",
       "      <td>NaN</td>\n",
       "      <td>non-nodule</td>\n",
       "      <td>NaN</td>\n",
       "      <td>NaN</td>\n",
       "    </tr>\n",
       "    <tr>\n",
       "      <th>246</th>\n",
       "      <td>JPCNN093.png</td>\n",
       "      <td>NaN</td>\n",
       "      <td>NaN</td>\n",
       "      <td>41</td>\n",
       "      <td>Male</td>\n",
       "      <td>NaN</td>\n",
       "      <td>NaN</td>\n",
       "      <td>non-nodule</td>\n",
       "      <td>NaN</td>\n",
       "      <td>NaN</td>\n",
       "    </tr>\n",
       "  </tbody>\n",
       "</table>\n",
       "<p>247 rows × 10 columns</p>\n",
       "</div>"
      ],
      "text/plain": [
       "         study_id  subtlety  size age  gender       x       y       state  \\\n",
       "0    JPCLN001.png       5.0  15.0  53    Male  1634.0   692.0   malignant   \n",
       "1    JPCLN002.png       5.0  30.0  78  Female  1614.0  1090.0      benign   \n",
       "2    JPCLN003.png       5.0  30.0  63  Female  1303.0   447.0   malignant   \n",
       "3    JPCLN004.png       5.0  14.0  68  Female   606.0   836.0      benign   \n",
       "4    JPCLN005.png       5.0  35.0  73  Female  1438.0   692.0   malignant   \n",
       "..            ...       ...   ...  ..     ...     ...     ...         ...   \n",
       "242  JPCNN089.png       NaN   NaN  50    Male     NaN     NaN  non-nodule   \n",
       "243  JPCNN090.png       NaN   NaN  68  Female     NaN     NaN  non-nodule   \n",
       "244  JPCNN091.png       NaN   NaN  81    Male     NaN     NaN  non-nodule   \n",
       "245  JPCNN092.png       NaN   NaN  70  Female     NaN     NaN  non-nodule   \n",
       "246  JPCNN093.png       NaN   NaN  41    Male     NaN     NaN  non-nodule   \n",
       "\n",
       "               position           diagnosis  \n",
       "0          l.upper lobe         lung cancer  \n",
       "1      l.upper lobe(S5)  pulmonary hematoma  \n",
       "2    l.upper lobe(S1+2)         lung cancer  \n",
       "3          r.upper lobe   Inflammatory mass  \n",
       "4      l.upper lobe(S3)         lung cancer  \n",
       "..                  ...                 ...  \n",
       "242                 NaN                 NaN  \n",
       "243                 NaN                 NaN  \n",
       "244                 NaN                 NaN  \n",
       "245                 NaN                 NaN  \n",
       "246                 NaN                 NaN  \n",
       "\n",
       "[247 rows x 10 columns]"
      ]
     },
     "execution_count": 3,
     "metadata": {},
     "output_type": "execute_result"
    }
   ],
   "source": [
    "df"
   ]
  },
  {
   "cell_type": "code",
   "execution_count": 4,
   "id": "037fa8e1",
   "metadata": {},
   "outputs": [],
   "source": [
    "import numpy as np"
   ]
  },
  {
   "cell_type": "code",
   "execution_count": 5,
   "id": "5797fd20",
   "metadata": {},
   "outputs": [],
   "source": [
    "df.replace(\"?\", np.nan, inplace=True)"
   ]
  },
  {
   "cell_type": "code",
   "execution_count": 6,
   "id": "673b7198",
   "metadata": {},
   "outputs": [
    {
     "data": {
      "text/html": [
       "<div>\n",
       "<style scoped>\n",
       "    .dataframe tbody tr th:only-of-type {\n",
       "        vertical-align: middle;\n",
       "    }\n",
       "\n",
       "    .dataframe tbody tr th {\n",
       "        vertical-align: top;\n",
       "    }\n",
       "\n",
       "    .dataframe thead th {\n",
       "        text-align: right;\n",
       "    }\n",
       "</style>\n",
       "<table border=\"1\" class=\"dataframe\">\n",
       "  <thead>\n",
       "    <tr style=\"text-align: right;\">\n",
       "      <th></th>\n",
       "      <th>study_id</th>\n",
       "      <th>subtlety</th>\n",
       "      <th>size</th>\n",
       "      <th>age</th>\n",
       "      <th>gender</th>\n",
       "      <th>x</th>\n",
       "      <th>y</th>\n",
       "      <th>state</th>\n",
       "      <th>position</th>\n",
       "      <th>diagnosis</th>\n",
       "    </tr>\n",
       "  </thead>\n",
       "  <tbody>\n",
       "    <tr>\n",
       "      <th>0</th>\n",
       "      <td>JPCLN001.png</td>\n",
       "      <td>5.0</td>\n",
       "      <td>15.0</td>\n",
       "      <td>53</td>\n",
       "      <td>Male</td>\n",
       "      <td>1634.0</td>\n",
       "      <td>692.0</td>\n",
       "      <td>malignant</td>\n",
       "      <td>l.upper lobe</td>\n",
       "      <td>lung cancer</td>\n",
       "    </tr>\n",
       "    <tr>\n",
       "      <th>1</th>\n",
       "      <td>JPCLN002.png</td>\n",
       "      <td>5.0</td>\n",
       "      <td>30.0</td>\n",
       "      <td>78</td>\n",
       "      <td>Female</td>\n",
       "      <td>1614.0</td>\n",
       "      <td>1090.0</td>\n",
       "      <td>benign</td>\n",
       "      <td>l.upper lobe(S5)</td>\n",
       "      <td>pulmonary hematoma</td>\n",
       "    </tr>\n",
       "    <tr>\n",
       "      <th>2</th>\n",
       "      <td>JPCLN003.png</td>\n",
       "      <td>5.0</td>\n",
       "      <td>30.0</td>\n",
       "      <td>63</td>\n",
       "      <td>Female</td>\n",
       "      <td>1303.0</td>\n",
       "      <td>447.0</td>\n",
       "      <td>malignant</td>\n",
       "      <td>l.upper lobe(S1+2)</td>\n",
       "      <td>lung cancer</td>\n",
       "    </tr>\n",
       "    <tr>\n",
       "      <th>3</th>\n",
       "      <td>JPCLN004.png</td>\n",
       "      <td>5.0</td>\n",
       "      <td>14.0</td>\n",
       "      <td>68</td>\n",
       "      <td>Female</td>\n",
       "      <td>606.0</td>\n",
       "      <td>836.0</td>\n",
       "      <td>benign</td>\n",
       "      <td>r.upper lobe</td>\n",
       "      <td>Inflammatory mass</td>\n",
       "    </tr>\n",
       "    <tr>\n",
       "      <th>4</th>\n",
       "      <td>JPCLN005.png</td>\n",
       "      <td>5.0</td>\n",
       "      <td>35.0</td>\n",
       "      <td>73</td>\n",
       "      <td>Female</td>\n",
       "      <td>1438.0</td>\n",
       "      <td>692.0</td>\n",
       "      <td>malignant</td>\n",
       "      <td>l.upper lobe(S3)</td>\n",
       "      <td>lung cancer</td>\n",
       "    </tr>\n",
       "    <tr>\n",
       "      <th>...</th>\n",
       "      <td>...</td>\n",
       "      <td>...</td>\n",
       "      <td>...</td>\n",
       "      <td>...</td>\n",
       "      <td>...</td>\n",
       "      <td>...</td>\n",
       "      <td>...</td>\n",
       "      <td>...</td>\n",
       "      <td>...</td>\n",
       "      <td>...</td>\n",
       "    </tr>\n",
       "    <tr>\n",
       "      <th>242</th>\n",
       "      <td>JPCNN089.png</td>\n",
       "      <td>NaN</td>\n",
       "      <td>NaN</td>\n",
       "      <td>50</td>\n",
       "      <td>Male</td>\n",
       "      <td>NaN</td>\n",
       "      <td>NaN</td>\n",
       "      <td>non-nodule</td>\n",
       "      <td>NaN</td>\n",
       "      <td>NaN</td>\n",
       "    </tr>\n",
       "    <tr>\n",
       "      <th>243</th>\n",
       "      <td>JPCNN090.png</td>\n",
       "      <td>NaN</td>\n",
       "      <td>NaN</td>\n",
       "      <td>68</td>\n",
       "      <td>Female</td>\n",
       "      <td>NaN</td>\n",
       "      <td>NaN</td>\n",
       "      <td>non-nodule</td>\n",
       "      <td>NaN</td>\n",
       "      <td>NaN</td>\n",
       "    </tr>\n",
       "    <tr>\n",
       "      <th>244</th>\n",
       "      <td>JPCNN091.png</td>\n",
       "      <td>NaN</td>\n",
       "      <td>NaN</td>\n",
       "      <td>81</td>\n",
       "      <td>Male</td>\n",
       "      <td>NaN</td>\n",
       "      <td>NaN</td>\n",
       "      <td>non-nodule</td>\n",
       "      <td>NaN</td>\n",
       "      <td>NaN</td>\n",
       "    </tr>\n",
       "    <tr>\n",
       "      <th>245</th>\n",
       "      <td>JPCNN092.png</td>\n",
       "      <td>NaN</td>\n",
       "      <td>NaN</td>\n",
       "      <td>70</td>\n",
       "      <td>Female</td>\n",
       "      <td>NaN</td>\n",
       "      <td>NaN</td>\n",
       "      <td>non-nodule</td>\n",
       "      <td>NaN</td>\n",
       "      <td>NaN</td>\n",
       "    </tr>\n",
       "    <tr>\n",
       "      <th>246</th>\n",
       "      <td>JPCNN093.png</td>\n",
       "      <td>NaN</td>\n",
       "      <td>NaN</td>\n",
       "      <td>41</td>\n",
       "      <td>Male</td>\n",
       "      <td>NaN</td>\n",
       "      <td>NaN</td>\n",
       "      <td>non-nodule</td>\n",
       "      <td>NaN</td>\n",
       "      <td>NaN</td>\n",
       "    </tr>\n",
       "  </tbody>\n",
       "</table>\n",
       "<p>247 rows × 10 columns</p>\n",
       "</div>"
      ],
      "text/plain": [
       "         study_id  subtlety  size age  gender       x       y       state  \\\n",
       "0    JPCLN001.png       5.0  15.0  53    Male  1634.0   692.0   malignant   \n",
       "1    JPCLN002.png       5.0  30.0  78  Female  1614.0  1090.0      benign   \n",
       "2    JPCLN003.png       5.0  30.0  63  Female  1303.0   447.0   malignant   \n",
       "3    JPCLN004.png       5.0  14.0  68  Female   606.0   836.0      benign   \n",
       "4    JPCLN005.png       5.0  35.0  73  Female  1438.0   692.0   malignant   \n",
       "..            ...       ...   ...  ..     ...     ...     ...         ...   \n",
       "242  JPCNN089.png       NaN   NaN  50    Male     NaN     NaN  non-nodule   \n",
       "243  JPCNN090.png       NaN   NaN  68  Female     NaN     NaN  non-nodule   \n",
       "244  JPCNN091.png       NaN   NaN  81    Male     NaN     NaN  non-nodule   \n",
       "245  JPCNN092.png       NaN   NaN  70  Female     NaN     NaN  non-nodule   \n",
       "246  JPCNN093.png       NaN   NaN  41    Male     NaN     NaN  non-nodule   \n",
       "\n",
       "               position           diagnosis  \n",
       "0          l.upper lobe         lung cancer  \n",
       "1      l.upper lobe(S5)  pulmonary hematoma  \n",
       "2    l.upper lobe(S1+2)         lung cancer  \n",
       "3          r.upper lobe   Inflammatory mass  \n",
       "4      l.upper lobe(S3)         lung cancer  \n",
       "..                  ...                 ...  \n",
       "242                 NaN                 NaN  \n",
       "243                 NaN                 NaN  \n",
       "244                 NaN                 NaN  \n",
       "245                 NaN                 NaN  \n",
       "246                 NaN                 NaN  \n",
       "\n",
       "[247 rows x 10 columns]"
      ]
     },
     "execution_count": 6,
     "metadata": {},
     "output_type": "execute_result"
    }
   ],
   "source": [
    "df"
   ]
  },
  {
   "cell_type": "code",
   "execution_count": 7,
   "id": "791afb04",
   "metadata": {},
   "outputs": [
    {
     "data": {
      "text/html": [
       "<div>\n",
       "<style scoped>\n",
       "    .dataframe tbody tr th:only-of-type {\n",
       "        vertical-align: middle;\n",
       "    }\n",
       "\n",
       "    .dataframe tbody tr th {\n",
       "        vertical-align: top;\n",
       "    }\n",
       "\n",
       "    .dataframe thead th {\n",
       "        text-align: right;\n",
       "    }\n",
       "</style>\n",
       "<table border=\"1\" class=\"dataframe\">\n",
       "  <thead>\n",
       "    <tr style=\"text-align: right;\">\n",
       "      <th></th>\n",
       "      <th>study_id</th>\n",
       "      <th>subtlety</th>\n",
       "      <th>size</th>\n",
       "      <th>age</th>\n",
       "      <th>gender</th>\n",
       "      <th>x</th>\n",
       "      <th>y</th>\n",
       "      <th>state</th>\n",
       "      <th>position</th>\n",
       "      <th>diagnosis</th>\n",
       "    </tr>\n",
       "  </thead>\n",
       "  <tbody>\n",
       "    <tr>\n",
       "      <th>0</th>\n",
       "      <td>False</td>\n",
       "      <td>False</td>\n",
       "      <td>False</td>\n",
       "      <td>False</td>\n",
       "      <td>False</td>\n",
       "      <td>False</td>\n",
       "      <td>False</td>\n",
       "      <td>False</td>\n",
       "      <td>False</td>\n",
       "      <td>False</td>\n",
       "    </tr>\n",
       "    <tr>\n",
       "      <th>1</th>\n",
       "      <td>False</td>\n",
       "      <td>False</td>\n",
       "      <td>False</td>\n",
       "      <td>False</td>\n",
       "      <td>False</td>\n",
       "      <td>False</td>\n",
       "      <td>False</td>\n",
       "      <td>False</td>\n",
       "      <td>False</td>\n",
       "      <td>False</td>\n",
       "    </tr>\n",
       "    <tr>\n",
       "      <th>2</th>\n",
       "      <td>False</td>\n",
       "      <td>False</td>\n",
       "      <td>False</td>\n",
       "      <td>False</td>\n",
       "      <td>False</td>\n",
       "      <td>False</td>\n",
       "      <td>False</td>\n",
       "      <td>False</td>\n",
       "      <td>False</td>\n",
       "      <td>False</td>\n",
       "    </tr>\n",
       "    <tr>\n",
       "      <th>3</th>\n",
       "      <td>False</td>\n",
       "      <td>False</td>\n",
       "      <td>False</td>\n",
       "      <td>False</td>\n",
       "      <td>False</td>\n",
       "      <td>False</td>\n",
       "      <td>False</td>\n",
       "      <td>False</td>\n",
       "      <td>False</td>\n",
       "      <td>False</td>\n",
       "    </tr>\n",
       "    <tr>\n",
       "      <th>4</th>\n",
       "      <td>False</td>\n",
       "      <td>False</td>\n",
       "      <td>False</td>\n",
       "      <td>False</td>\n",
       "      <td>False</td>\n",
       "      <td>False</td>\n",
       "      <td>False</td>\n",
       "      <td>False</td>\n",
       "      <td>False</td>\n",
       "      <td>False</td>\n",
       "    </tr>\n",
       "    <tr>\n",
       "      <th>...</th>\n",
       "      <td>...</td>\n",
       "      <td>...</td>\n",
       "      <td>...</td>\n",
       "      <td>...</td>\n",
       "      <td>...</td>\n",
       "      <td>...</td>\n",
       "      <td>...</td>\n",
       "      <td>...</td>\n",
       "      <td>...</td>\n",
       "      <td>...</td>\n",
       "    </tr>\n",
       "    <tr>\n",
       "      <th>242</th>\n",
       "      <td>False</td>\n",
       "      <td>True</td>\n",
       "      <td>True</td>\n",
       "      <td>False</td>\n",
       "      <td>False</td>\n",
       "      <td>True</td>\n",
       "      <td>True</td>\n",
       "      <td>False</td>\n",
       "      <td>True</td>\n",
       "      <td>True</td>\n",
       "    </tr>\n",
       "    <tr>\n",
       "      <th>243</th>\n",
       "      <td>False</td>\n",
       "      <td>True</td>\n",
       "      <td>True</td>\n",
       "      <td>False</td>\n",
       "      <td>False</td>\n",
       "      <td>True</td>\n",
       "      <td>True</td>\n",
       "      <td>False</td>\n",
       "      <td>True</td>\n",
       "      <td>True</td>\n",
       "    </tr>\n",
       "    <tr>\n",
       "      <th>244</th>\n",
       "      <td>False</td>\n",
       "      <td>True</td>\n",
       "      <td>True</td>\n",
       "      <td>False</td>\n",
       "      <td>False</td>\n",
       "      <td>True</td>\n",
       "      <td>True</td>\n",
       "      <td>False</td>\n",
       "      <td>True</td>\n",
       "      <td>True</td>\n",
       "    </tr>\n",
       "    <tr>\n",
       "      <th>245</th>\n",
       "      <td>False</td>\n",
       "      <td>True</td>\n",
       "      <td>True</td>\n",
       "      <td>False</td>\n",
       "      <td>False</td>\n",
       "      <td>True</td>\n",
       "      <td>True</td>\n",
       "      <td>False</td>\n",
       "      <td>True</td>\n",
       "      <td>True</td>\n",
       "    </tr>\n",
       "    <tr>\n",
       "      <th>246</th>\n",
       "      <td>False</td>\n",
       "      <td>True</td>\n",
       "      <td>True</td>\n",
       "      <td>False</td>\n",
       "      <td>False</td>\n",
       "      <td>True</td>\n",
       "      <td>True</td>\n",
       "      <td>False</td>\n",
       "      <td>True</td>\n",
       "      <td>True</td>\n",
       "    </tr>\n",
       "  </tbody>\n",
       "</table>\n",
       "<p>247 rows × 10 columns</p>\n",
       "</div>"
      ],
      "text/plain": [
       "     study_id  subtlety   size    age  gender      x      y  state  position  \\\n",
       "0       False     False  False  False   False  False  False  False     False   \n",
       "1       False     False  False  False   False  False  False  False     False   \n",
       "2       False     False  False  False   False  False  False  False     False   \n",
       "3       False     False  False  False   False  False  False  False     False   \n",
       "4       False     False  False  False   False  False  False  False     False   \n",
       "..        ...       ...    ...    ...     ...    ...    ...    ...       ...   \n",
       "242     False      True   True  False   False   True   True  False      True   \n",
       "243     False      True   True  False   False   True   True  False      True   \n",
       "244     False      True   True  False   False   True   True  False      True   \n",
       "245     False      True   True  False   False   True   True  False      True   \n",
       "246     False      True   True  False   False   True   True  False      True   \n",
       "\n",
       "     diagnosis  \n",
       "0        False  \n",
       "1        False  \n",
       "2        False  \n",
       "3        False  \n",
       "4        False  \n",
       "..         ...  \n",
       "242       True  \n",
       "243       True  \n",
       "244       True  \n",
       "245       True  \n",
       "246       True  \n",
       "\n",
       "[247 rows x 10 columns]"
      ]
     },
     "execution_count": 7,
     "metadata": {},
     "output_type": "execute_result"
    }
   ],
   "source": [
    "df.isnull()"
   ]
  },
  {
   "cell_type": "code",
   "execution_count": 8,
   "id": "2777257f",
   "metadata": {},
   "outputs": [
    {
     "data": {
      "text/plain": [
       "study_id      0\n",
       "subtlety     93\n",
       "size         93\n",
       "age           2\n",
       "gender        0\n",
       "x            93\n",
       "y            93\n",
       "state         0\n",
       "position     93\n",
       "diagnosis    93\n",
       "dtype: int64"
      ]
     },
     "execution_count": 8,
     "metadata": {},
     "output_type": "execute_result"
    }
   ],
   "source": [
    "df.isnull().sum()"
   ]
  },
  {
   "cell_type": "code",
   "execution_count": 9,
   "id": "2ff52eee",
   "metadata": {},
   "outputs": [],
   "source": [
    "d = df['diagnosis'].value_counts().idxmax()"
   ]
  },
  {
   "cell_type": "code",
   "execution_count": 10,
   "id": "da917636",
   "metadata": {},
   "outputs": [
    {
     "data": {
      "text/plain": [
       "'lung cancer'"
      ]
     },
     "execution_count": 10,
     "metadata": {},
     "output_type": "execute_result"
    }
   ],
   "source": [
    "d"
   ]
  },
  {
   "cell_type": "code",
   "execution_count": 74,
   "id": "fb8f8721",
   "metadata": {},
   "outputs": [],
   "source": [
    "df['diagnosis'].replace(np.nan, d, inplace=True)"
   ]
  },
  {
   "cell_type": "code",
   "execution_count": 75,
   "id": "bec71790",
   "metadata": {},
   "outputs": [
    {
     "data": {
      "text/plain": [
       "study_id      0\n",
       "subtlety     93\n",
       "size         93\n",
       "age           2\n",
       "gender        0\n",
       "x            93\n",
       "y            93\n",
       "state        93\n",
       "position     93\n",
       "diagnosis     0\n",
       "dtype: int64"
      ]
     },
     "execution_count": 75,
     "metadata": {},
     "output_type": "execute_result"
    }
   ],
   "source": [
    "df.isnull().sum()"
   ]
  },
  {
   "cell_type": "code",
   "execution_count": 77,
   "id": "5c4a89c9",
   "metadata": {},
   "outputs": [],
   "source": [
    "sub = int(df['subtlety'].astype('float').mean())\n"
   ]
  },
  {
   "cell_type": "code",
   "execution_count": 78,
   "id": "08d16c69",
   "metadata": {},
   "outputs": [
    {
     "data": {
      "text/plain": [
       "2"
      ]
     },
     "execution_count": 78,
     "metadata": {},
     "output_type": "execute_result"
    }
   ],
   "source": [
    "sub"
   ]
  },
  {
   "cell_type": "code",
   "execution_count": 80,
   "id": "8b02eef0",
   "metadata": {},
   "outputs": [],
   "source": [
    "df['subtlety'].replace(np.nan, sub, inplace=True)"
   ]
  },
  {
   "cell_type": "code",
   "execution_count": 81,
   "id": "8a14410d",
   "metadata": {},
   "outputs": [
    {
     "data": {
      "text/plain": [
       "study_id      0\n",
       "subtlety      0\n",
       "size         93\n",
       "age           2\n",
       "gender        0\n",
       "x            93\n",
       "y            93\n",
       "state        93\n",
       "position     93\n",
       "diagnosis     0\n",
       "dtype: int64"
      ]
     },
     "execution_count": 81,
     "metadata": {},
     "output_type": "execute_result"
    }
   ],
   "source": [
    "df.isnull().sum()"
   ]
  },
  {
   "cell_type": "code",
   "execution_count": 82,
   "id": "da523d5c",
   "metadata": {},
   "outputs": [],
   "source": [
    "si = int(df['size'].astype('float').mean())"
   ]
  },
  {
   "cell_type": "code",
   "execution_count": 83,
   "id": "595106f9",
   "metadata": {},
   "outputs": [
    {
     "data": {
      "text/plain": [
       "17"
      ]
     },
     "execution_count": 83,
     "metadata": {},
     "output_type": "execute_result"
    }
   ],
   "source": [
    "si"
   ]
  },
  {
   "cell_type": "code",
   "execution_count": 84,
   "id": "f385c3d4",
   "metadata": {},
   "outputs": [],
   "source": [
    "df['size'].replace(np.nan, si, inplace=True)"
   ]
  },
  {
   "cell_type": "code",
   "execution_count": 85,
   "id": "4f5271fb",
   "metadata": {},
   "outputs": [
    {
     "data": {
      "text/plain": [
       "study_id      0\n",
       "subtlety      0\n",
       "size          0\n",
       "age           2\n",
       "gender        0\n",
       "x            93\n",
       "y            93\n",
       "state        93\n",
       "position     93\n",
       "diagnosis     0\n",
       "dtype: int64"
      ]
     },
     "execution_count": 85,
     "metadata": {},
     "output_type": "execute_result"
    }
   ],
   "source": [
    "df.isnull().sum()"
   ]
  },
  {
   "cell_type": "code",
   "execution_count": 95,
   "id": "d4feda41",
   "metadata": {},
   "outputs": [],
   "source": [
    "df['size'].replace(np.nan, xi, inplace=True)"
   ]
  },
  {
   "cell_type": "code",
   "execution_count": 96,
   "id": "7801090c",
   "metadata": {},
   "outputs": [
    {
     "data": {
      "text/plain": [
       "study_id      0\n",
       "subtlety      0\n",
       "size          0\n",
       "age           2\n",
       "gender        0\n",
       "x            93\n",
       "y            93\n",
       "state        93\n",
       "position     93\n",
       "diagnosis     0\n",
       "dtype: int64"
      ]
     },
     "execution_count": 96,
     "metadata": {},
     "output_type": "execute_result"
    }
   ],
   "source": [
    "df.isnull().sum()"
   ]
  },
  {
   "cell_type": "code",
   "execution_count": 102,
   "id": "0d552749",
   "metadata": {},
   "outputs": [],
   "source": [
    "st= df['state'].value_counts().idxmax()"
   ]
  },
  {
   "cell_type": "code",
   "execution_count": 103,
   "id": "72771025",
   "metadata": {},
   "outputs": [
    {
     "data": {
      "text/plain": [
       "'malignant'"
      ]
     },
     "execution_count": 103,
     "metadata": {},
     "output_type": "execute_result"
    }
   ],
   "source": [
    "st"
   ]
  },
  {
   "cell_type": "code",
   "execution_count": 105,
   "id": "e3d24b8a",
   "metadata": {},
   "outputs": [],
   "source": [
    "df['state'].replace(np.nan, st, inplace=True)"
   ]
  },
  {
   "cell_type": "code",
   "execution_count": 106,
   "id": "febb3da6",
   "metadata": {},
   "outputs": [
    {
     "data": {
      "text/plain": [
       "study_id      0\n",
       "subtlety      0\n",
       "size          0\n",
       "age           2\n",
       "gender        0\n",
       "x            93\n",
       "y            93\n",
       "state         0\n",
       "position     93\n",
       "diagnosis     0\n",
       "dtype: int64"
      ]
     },
     "execution_count": 106,
     "metadata": {},
     "output_type": "execute_result"
    }
   ],
   "source": [
    "df.isnull().sum()"
   ]
  },
  {
   "cell_type": "code",
   "execution_count": 13,
   "id": "66dd8ddf",
   "metadata": {},
   "outputs": [],
   "source": [
    "import matplotlib as plt\n",
    "from matplotlib import pyplot"
   ]
  },
  {
   "cell_type": "code",
   "execution_count": 14,
   "id": "3d971fc9",
   "metadata": {},
   "outputs": [
    {
     "data": {
      "text/plain": [
       "(array([30.,  1.,  0.,  0.,  0.,  0.,  0.,  0.,  0.,  1.]),\n",
       " array([  1. ,  15.8,  30.6,  45.4,  60.2,  75. ,  89.8, 104.6, 119.4,\n",
       "        134.2, 149. ]),\n",
       " <BarContainer object of 10 artists>)"
      ]
     },
     "execution_count": 14,
     "metadata": {},
     "output_type": "execute_result"
    },
    {
     "data": {
      "image/png": "[encoded data removed]",
      "text/plain": [
       "<Figure size 432x288 with 1 Axes>"
      ]
     },
     "metadata": {
      "needs_background": "light"
     },
     "output_type": "display_data"
    }
   ],
   "source": [
    "plt.pyplot.title(\" Number of patients of each disease (diagnosis)\")\n",
    "plt.pyplot.xlabel(\"diagnosis\")\n",
    "plt.pyplot.ylabel(\"Patient's\")\n",
    "plt.pyplot.hist(df['diagnosis'].value_counts())"
   ]
  },
  {
   "cell_type": "code",
   "execution_count": 15,
   "id": "455d7298",
   "metadata": {},
   "outputs": [
    {
     "data": {
      "text/plain": [
       "0    malignant\n",
       "1       benign\n",
       "2    malignant\n",
       "3       benign\n",
       "4    malignant\n",
       "5       benign\n",
       "6    malignant\n",
       "7       benign\n",
       "8    malignant\n",
       "9    malignant\n",
       "Name: state, dtype: object"
      ]
     },
     "execution_count": 15,
     "metadata": {},
     "output_type": "execute_result"
    }
   ],
   "source": [
    "df['state'].head(10)"
   ]
  },
  {
   "cell_type": "code",
   "execution_count": 16,
   "id": "7c00b062",
   "metadata": {},
   "outputs": [],
   "source": [
    "st=df['state'].value_counts().idxmax()"
   ]
  },
  {
   "cell_type": "code",
   "execution_count": 17,
   "id": "f937f472",
   "metadata": {},
   "outputs": [
    {
     "data": {
      "text/plain": [
       "'malignant'"
      ]
     },
     "execution_count": 17,
     "metadata": {},
     "output_type": "execute_result"
    }
   ],
   "source": [
    "st"
   ]
  },
  {
   "cell_type": "code",
   "execution_count": 18,
   "id": "8062ee72",
   "metadata": {},
   "outputs": [],
   "source": [
    "df['state'].replace(np.nan,st,inplace=True)"
   ]
  },
  {
   "cell_type": "code",
   "execution_count": 19,
   "id": "89631b5c",
   "metadata": {},
   "outputs": [
    {
     "data": {
      "text/plain": [
       "malignant     100\n",
       "non-nodule     93\n",
       "benign         54\n",
       "Name: state, dtype: int64"
      ]
     },
     "execution_count": 19,
     "metadata": {},
     "output_type": "execute_result"
    }
   ],
   "source": [
    "df['state'].value_counts()"
   ]
  },
  {
   "cell_type": "code",
   "execution_count": 20,
   "id": "c18910c3",
   "metadata": {},
   "outputs": [],
   "source": [
    "b=df['diagnosis'].value_counts()"
   ]
  },
  {
   "cell_type": "code",
   "execution_count": 21,
   "id": "6bca4260",
   "metadata": {},
   "outputs": [
    {
     "data": {
      "text/plain": [
       "lung cancer                                       149\n",
       "lung cancer(adenocarcinoma)                        23\n",
       "tuberculoma                                        14\n",
       "granuloma                                           8\n",
       "lung cancer(bronchioloalveolar cell carcinoma)      7\n",
       "metastasis of colon cancer                          4\n",
       "inflammatory mass                                   4\n",
       "unknown                                             4\n",
       "pulmonary tuberculosis                              3\n",
       "Inflammatory mass                                   2\n",
       "lung cancer(squamous cell carcinoma)                2\n",
       "susp. inflammatory mass                             2\n",
       "hamartoma                                           2\n",
       "sclerosing hemangioma                               2\n",
       "pulmonary hematoma                                  2\n",
       "Cryptococcosis                                      2\n",
       "lung abscess                                        2\n",
       "organiging pneumonia                                1\n",
       "lung cancer(large cell carcinoma)                   1\n",
       "organizing pneumonia                                1\n",
       "susp. hamartoma                                     1\n",
       "metastatic lung cancer                              1\n",
       "lung cancer(adenosquamous carcinoma)                1\n",
       "susp. lung metastasis                               1\n",
       "susp. sclerosing hemangioma                         1\n",
       "lung cancer(small cell carcinoma)                   1\n",
       "metastasis of uterine cancer                        1\n",
       "pneumonia                                           1\n",
       "calcified granuloma                                 1\n",
       "lung canceror metastasis                            1\n",
       "metastasis of ovarian cancer                        1\n",
       "susp.tuberculoma                                    1\n",
       "Name: diagnosis, dtype: int64"
      ]
     },
     "execution_count": 21,
     "metadata": {},
     "output_type": "execute_result"
    }
   ],
   "source": [
    "b"
   ]
  },
  {
   "cell_type": "code",
   "execution_count": 22,
   "id": "e6fa69bf",
   "metadata": {},
   "outputs": [],
   "source": [
    "diagnosis_data=df['diagnosis']\n"
   ]
  },
  {
   "cell_type": "code",
   "execution_count": 23,
   "id": "22140209",
   "metadata": {},
   "outputs": [
    {
     "data": {
      "text/plain": [
       "0             lung cancer\n",
       "1      pulmonary hematoma\n",
       "2             lung cancer\n",
       "3       Inflammatory mass\n",
       "4             lung cancer\n",
       "              ...        \n",
       "242           lung cancer\n",
       "243           lung cancer\n",
       "244           lung cancer\n",
       "245           lung cancer\n",
       "246           lung cancer\n",
       "Name: diagnosis, Length: 247, dtype: object"
      ]
     },
     "execution_count": 23,
     "metadata": {},
     "output_type": "execute_result"
    }
   ],
   "source": [
    "diagnosis_data"
   ]
  },
  {
   "cell_type": "code",
   "execution_count": 107,
   "id": "8404ea3b",
   "metadata": {},
   "outputs": [
    {
     "data": {
      "text/plain": [
       "([<matplotlib.patches.Wedge at 0x1d793478220>,\n",
       "  <matplotlib.patches.Wedge at 0x1d793478af0>,\n",
       "  <matplotlib.patches.Wedge at 0x1d793486400>,\n",
       "  <matplotlib.patches.Wedge at 0x1d793486cd0>,\n",
       "  <matplotlib.patches.Wedge at 0x1d7934955e0>,\n",
       "  <matplotlib.patches.Wedge at 0x1d793495eb0>,\n",
       "  <matplotlib.patches.Wedge at 0x1d7934a37f0>,\n",
       "  <matplotlib.patches.Wedge at 0x1d7934b0100>,\n",
       "  <matplotlib.patches.Wedge at 0x1d7934b09d0>,\n",
       "  <matplotlib.patches.Wedge at 0x1d7934be2e0>,\n",
       "  <matplotlib.patches.Wedge at 0x1d793454d60>,\n",
       "  <matplotlib.patches.Wedge at 0x1d7934cb490>,\n",
       "  <matplotlib.patches.Wedge at 0x1d7934cbd60>,\n",
       "  <matplotlib.patches.Wedge at 0x1d7934d9670>,\n",
       "  <matplotlib.patches.Wedge at 0x1d7934d9f40>,\n",
       "  <matplotlib.patches.Wedge at 0x1d7934e8850>,\n",
       "  <matplotlib.patches.Wedge at 0x1d7934f5160>,\n",
       "  <matplotlib.patches.Wedge at 0x1d7934f5a30>,\n",
       "  <matplotlib.patches.Wedge at 0x1d793503340>,\n",
       "  <matplotlib.patches.Wedge at 0x1d793503c10>,\n",
       "  <matplotlib.patches.Wedge at 0x1d793511520>,\n",
       "  <matplotlib.patches.Wedge at 0x1d793511df0>,\n",
       "  <matplotlib.patches.Wedge at 0x1d79351f700>,\n",
       "  <matplotlib.patches.Wedge at 0x1d79351ffa0>,\n",
       "  <matplotlib.patches.Wedge at 0x1d79352e910>,\n",
       "  <matplotlib.patches.Wedge at 0x1d79353a220>,\n",
       "  <matplotlib.patches.Wedge at 0x1d79353aaf0>,\n",
       "  <matplotlib.patches.Wedge at 0x1d793548400>,\n",
       "  <matplotlib.patches.Wedge at 0x1d793548cd0>,\n",
       "  <matplotlib.patches.Wedge at 0x1d7935575e0>,\n",
       "  <matplotlib.patches.Wedge at 0x1d793557eb0>,\n",
       "  <matplotlib.patches.Wedge at 0x1d7935657c0>],\n",
       " [Text(-1.0240422547201278, 0.40166834645975896, ''),\n",
       "  Text(0.26475643336986104, -1.0676628826503574, ''),\n",
       "  Text(0.7200798305767194, -0.8315557934357762, ''),\n",
       "  Text(0.9217325132247225, -0.6003408815535027, ''),\n",
       "  Text(1.0188507613553361, -0.4146602538050303, ''),\n",
       "  Text(1.0667208694879078, -0.268526696250042, ''),\n",
       "  Text(1.0884795045095776, -0.1587840302504771, ''),\n",
       "  Text(1.098978321971781, -0.04739881682161186, ''),\n",
       "  Text(1.0988399526852335, 0.050505033241391474, ''),\n",
       "  Text(1.0934089666554059, 0.12023656531004936, ''),\n",
       "  Text(1.0858796836375293, 0.17568526592534642, ''),\n",
       "  Text(1.0755403517489999, 0.2306793266845509, ''),\n",
       "  Text(1.0624177272026238, 0.2850764334798849, ''),\n",
       "  Text(1.0465457688401054, 0.3387358170062227, ''),\n",
       "  Text(1.0279655502530618, 0.3915186170451161, ''),\n",
       "  Text(1.0067251534924273, 0.4432882418084748, ''),\n",
       "  Text(0.9828795446413037, 0.49391072141198145, ''),\n",
       "  Text(0.9633225396377793, 0.5310458404185268, ''),\n",
       "  Text(0.9495035913317605, 0.5553763859294786, ''),\n",
       "  Text(0.9350702602317815, 0.5793475713507985, ''),\n",
       "  Text(0.9200318855234634, 0.6029438859629817, ''),\n",
       "  Text(0.9043981978900321, 0.6261500616092459, ''),\n",
       "  Text(0.8881793132160162, 0.6489510825748932, ''),\n",
       "  Text(0.8713857260416907, 0.6713321953033355, ''),\n",
       "  Text(0.854028302772515, 0.6932789179424813, ''),\n",
       "  Text(0.836118274647951, 0.7147770497153177, ''),\n",
       "  Text(0.8176672304742122, 0.7358126801086209, ''),\n",
       "  Text(0.798687109125648, 0.7563721978738481, ''),\n",
       "  Text(0.7791901918196124, 0.7764422998343894, ''),\n",
       "  Text(0.7591890941698193, 0.7960099994934796, ''),\n",
       "  Text(0.7386967580233229, 0.8150626354371991, ''),\n",
       "  Text(0.7177264430864062, 0.8335878795271294, '')],\n",
       " [Text(-0.5585685025746151, 0.21909182534168667, '60.3%'),\n",
       "  Text(0.14441260001992418, -0.5823615723547403, '9.3%'),\n",
       "  Text(0.39277081667821057, -0.45357588732860515, '5.7%'),\n",
       "  Text(0.5027631890316667, -0.3274586626655469, '3.2%'),\n",
       "  Text(0.5557367789210923, -0.22617832025728923, '2.8%'),\n",
       "  Text(0.5818477469934041, -0.14646910704547744, '1.6%'),\n",
       "  Text(0.5937160933688604, -0.08660947104571477, '1.6%'),\n",
       "  Text(0.5994427210755168, -0.025853900084515557, '1.6%'),\n",
       "  Text(0.5993672469192182, 0.027548199949849892, '1.2%'),\n",
       "  Text(0.5964048909029486, 0.06558358107820873, '0.8%'),\n",
       "  Text(0.5922980092568341, 0.09582832686837076, '0.8%'),\n",
       "  Text(0.5866583736812726, 0.1258250872824823, '0.8%'),\n",
       "  Text(0.5795005784741584, 0.15549623644357358, '0.8%'),\n",
       "  Text(0.5708431466400574, 0.18476499109430325, '0.8%'),\n",
       "  Text(0.5607084819562155, 0.21355560929733605, '0.8%'),\n",
       "  Text(0.5491228109958693, 0.24179358644098622, '0.8%'),\n",
       "  Text(0.5361161152588928, 0.2694058480428989, '0.8%'),\n",
       "  Text(0.5254486579842431, 0.28966136750101457, '0.4%'),\n",
       "  Text(0.5179110498173239, 0.30293257414335195, '0.4%'),\n",
       "  Text(0.5100383237627899, 0.3160077661913446, '0.4%'),\n",
       "  Text(0.501835573921889, 0.3288784832525354, '0.4%'),\n",
       "  Text(0.49330810794001745, 0.34153639724140683, '0.4%'),\n",
       "  Text(0.4844614435723724, 0.3539733177681235, '0.4%'),\n",
       "  Text(0.47530130511364943, 0.36618119743818295, '0.4%'),\n",
       "  Text(0.46583361969409903, 0.37815213705953526, '0.4%'),\n",
       "  Text(0.45606451344433685, 0.38987839075380964, '0.4%'),\n",
       "  Text(0.4460003075313885, 0.4013523709683386, '0.4%'),\n",
       "  Text(0.43564751406853525, 0.4125666533857353, '0.4%'),\n",
       "  Text(0.4250128319016067, 0.42351398172784877, '0.4%'),\n",
       "  Text(0.41410314227444683, 0.4341872724509888, '0.4%'),\n",
       "  Text(0.4029255043763579, 0.4445796193293813, '0.4%'),\n",
       "  Text(0.3914871507744033, 0.4546842979238887, '0.4%')])"
      ]
     },
     "execution_count": 107,
     "metadata": {},
     "output_type": "execute_result"
    },
    {
     "data": {
      "image/png": "[encoded data removed]",
      "text/plain": [
       "<Figure size 432x288 with 1 Axes>"
      ]
     },
     "metadata": {},
     "output_type": "display_data"
    }
   ],
   "source": [
    "plt.pyplot.pie(df[['diagnosis', 'state']].value_counts(), shadow=True,autopct='%1.1f%%', startangle=50,)\n",
    "\n",
    "\n"
   ]
  },
  {
   "cell_type": "code",
   "execution_count": 108,
   "id": "e8d56af1",
   "metadata": {},
   "outputs": [
    {
     "data": {
      "text/plain": [
       "([<matplotlib.patches.Wedge at 0x1d7935af760>,\n",
       "  <matplotlib.patches.Wedge at 0x1d7935bd0d0>],\n",
       " [Text(-1.081059777200021, -0.20324802119637267, 'MALIGNANT'),\n",
       "  Text(1.0810597581705632, 0.20324812241249274, 'BENIGN')],\n",
       " [Text(-0.5896689693818296, -0.11086255701620328, '78.1%'),\n",
       "  Text(0.5896689590021252, 0.11086261222499602, '21.9%')])"
      ]
     },
     "execution_count": 108,
     "metadata": {},
     "output_type": "execute_result"
    },
    {
     "data": {
      "image/png": "[encoded data removed]",
      "text/plain": [
       "<Figure size 432x288 with 1 Axes>"
      ]
     },
     "metadata": {},
     "output_type": "display_data"
    }
   ],
   "source": [
    "\n",
    "plt.pyplot.pie(df['state'].value_counts(),explode=[0,0],\n",
    "               shadow=True,labels=['MALIGNANT','BENIGN'],autopct='%0.1f%%',\n",
    "              startangle=50)"
   ]
  },
  {
   "cell_type": "code",
   "execution_count": 126,
   "id": "8fd063b5",
   "metadata": {},
   "outputs": [
    {
     "data": {
      "text/plain": [
       "([<matplotlib.patches.Wedge at 0x1d7937e8280>,\n",
       "  <matplotlib.patches.Wedge at 0x1d7937e8bb0>],\n",
       " [Text(-0.8817162744686301, 0.6577054137964501, 'Male'),\n",
       "  Text(0.88171627446863, -0.6577054137964502, 'Female')],\n",
       " [Text(-0.4809361497101618, 0.3587484075253364, '51.8%'),\n",
       "  Text(0.48093614971016174, -0.35874840752533643, '48.2%')])"
      ]
     },
     "execution_count": 126,
     "metadata": {},
     "output_type": "execute_result"
    },
    {
     "data": {
      "image/png": "[encoded data removed]",
      "text/plain": [
       "<Figure size 432x288 with 1 Axes>"
      ]
     },
     "metadata": {},
     "output_type": "display_data"
    }
   ],
   "source": [
    "\n",
    "plt.pyplot.pie(df['gender'].value_counts(),explode=[0,0],\n",
    "               shadow=True,labels=['Male','Female'],autopct='%0.1f%%',\n",
    "              startangle=50)"
   ]
  },
  {
   "cell_type": "code",
   "execution_count": 110,
   "id": "6d87b562",
   "metadata": {},
   "outputs": [],
   "source": [
    "data=df[['diagnosis','state']].value_counts()"
   ]
  },
  {
   "cell_type": "code",
   "execution_count": 111,
   "id": "48800ad7",
   "metadata": {},
   "outputs": [
    {
     "data": {
      "text/plain": [
       "diagnosis                                       state    \n",
       "lung cancer                                     malignant    149\n",
       "lung cancer(adenocarcinoma)                     malignant     23\n",
       "tuberculoma                                     benign        14\n",
       "granuloma                                       benign         8\n",
       "lung cancer(bronchioloalveolar cell carcinoma)  malignant      7\n",
       "unknown                                         benign         4\n",
       "metastasis of colon cancer                      malignant      4\n",
       "inflammatory mass                               benign         4\n",
       "pulmonary tuberculosis                          benign         3\n",
       "susp. inflammatory mass                         benign         2\n",
       "sclerosing hemangioma                           benign         2\n",
       "pulmonary hematoma                              benign         2\n",
       "Inflammatory mass                               benign         2\n",
       "Cryptococcosis                                  benign         2\n",
       "lung cancer(squamous cell carcinoma)            malignant      2\n",
       "hamartoma                                       benign         2\n",
       "lung abscess                                    benign         2\n",
       "lung canceror metastasis                        malignant      1\n",
       "calcified granuloma                             benign         1\n",
       "susp.tuberculoma                                benign         1\n",
       "susp. sclerosing hemangioma                     benign         1\n",
       "susp. lung metastasis                           malignant      1\n",
       "susp. hamartoma                                 benign         1\n",
       "lung cancer(adenosquamous carcinoma)            malignant      1\n",
       "lung cancer(large cell carcinoma)               malignant      1\n",
       "pneumonia                                       benign         1\n",
       "organizing pneumonia                            benign         1\n",
       "organiging pneumonia                            benign         1\n",
       "metastatic lung cancer                          malignant      1\n",
       "metastasis of uterine cancer                    malignant      1\n",
       "lung cancer(small cell carcinoma)               malignant      1\n",
       "metastasis of ovarian cancer                    malignant      1\n",
       "dtype: int64"
      ]
     },
     "execution_count": 111,
     "metadata": {},
     "output_type": "execute_result"
    }
   ],
   "source": [
    "data"
   ]
  },
  {
   "cell_type": "code",
   "execution_count": 112,
   "id": "b85abd06",
   "metadata": {},
   "outputs": [],
   "source": [
    "lbl = df[['diagnosis','state']].value_counts().keys()"
   ]
  },
  {
   "cell_type": "code",
   "execution_count": 113,
   "id": "79e3c87d",
   "metadata": {},
   "outputs": [
    {
     "data": {
      "text/plain": [
       "MultiIndex([(                                   'lung cancer', 'malignant'),\n",
       "            (                   'lung cancer(adenocarcinoma)', 'malignant'),\n",
       "            (                                   'tuberculoma',    'benign'),\n",
       "            (                                     'granuloma',    'benign'),\n",
       "            ('lung cancer(bronchioloalveolar cell carcinoma)', 'malignant'),\n",
       "            (                                       'unknown',    'benign'),\n",
       "            (                    'metastasis of colon cancer', 'malignant'),\n",
       "            (                             'inflammatory mass',    'benign'),\n",
       "            (                        'pulmonary tuberculosis',    'benign'),\n",
       "            (                       'susp. inflammatory mass',    'benign'),\n",
       "            (                         'sclerosing hemangioma',    'benign'),\n",
       "            (                            'pulmonary hematoma',    'benign'),\n",
       "            (                             'Inflammatory mass',    'benign'),\n",
       "            (                                'Cryptococcosis',    'benign'),\n",
       "            (          'lung cancer(squamous cell carcinoma)', 'malignant'),\n",
       "            (                                     'hamartoma',    'benign'),\n",
       "            (                                  'lung abscess',    'benign'),\n",
       "            (                      'lung canceror metastasis', 'malignant'),\n",
       "            (                           'calcified granuloma',    'benign'),\n",
       "            (                              'susp.tuberculoma',    'benign'),\n",
       "            (                   'susp. sclerosing hemangioma',    'benign'),\n",
       "            (                         'susp. lung metastasis', 'malignant'),\n",
       "            (                               'susp. hamartoma',    'benign'),\n",
       "            (          'lung cancer(adenosquamous carcinoma)', 'malignant'),\n",
       "            (             'lung cancer(large cell carcinoma)', 'malignant'),\n",
       "            (                                     'pneumonia',    'benign'),\n",
       "            (                          'organizing pneumonia',    'benign'),\n",
       "            (                          'organiging pneumonia',    'benign'),\n",
       "            (                        'metastatic lung cancer', 'malignant'),\n",
       "            (                  'metastasis of uterine cancer', 'malignant'),\n",
       "            (             'lung cancer(small cell carcinoma)', 'malignant'),\n",
       "            (                  'metastasis of ovarian cancer', 'malignant')],\n",
       "           names=['diagnosis', 'state'])"
      ]
     },
     "execution_count": 113,
     "metadata": {},
     "output_type": "execute_result"
    }
   ],
   "source": [
    "lbl"
   ]
  },
  {
   "cell_type": "code",
   "execution_count": 133,
   "id": "d9a84dc6",
   "metadata": {},
   "outputs": [
    {
     "data": {
      "text/plain": [
       "([<matplotlib.patches.Wedge at 0x1d7938c9b50>,\n",
       "  <matplotlib.patches.Wedge at 0x1d7938d6250>,\n",
       "  <matplotlib.patches.Wedge at 0x1d7938d6a60>,\n",
       "  <matplotlib.patches.Wedge at 0x1d7938e82b0>,\n",
       "  <matplotlib.patches.Wedge at 0x1d7938e8ac0>,\n",
       "  <matplotlib.patches.Wedge at 0x1d7938f8310>,\n",
       "  <matplotlib.patches.Wedge at 0x1d7938f8b20>,\n",
       "  <matplotlib.patches.Wedge at 0x1d793908370>,\n",
       "  <matplotlib.patches.Wedge at 0x1d793908b80>,\n",
       "  <matplotlib.patches.Wedge at 0x1d7939163d0>,\n",
       "  <matplotlib.patches.Wedge at 0x1d7938aa850>,\n",
       "  <matplotlib.patches.Wedge at 0x1d793926400>,\n",
       "  <matplotlib.patches.Wedge at 0x1d793926c10>,\n",
       "  <matplotlib.patches.Wedge at 0x1d793935460>,\n",
       "  <matplotlib.patches.Wedge at 0x1d793935c70>,\n",
       "  <matplotlib.patches.Wedge at 0x1d7939454c0>,\n",
       "  <matplotlib.patches.Wedge at 0x1d793945cd0>,\n",
       "  <matplotlib.patches.Wedge at 0x1d793954520>,\n",
       "  <matplotlib.patches.Wedge at 0x1d793954d30>,\n",
       "  <matplotlib.patches.Wedge at 0x1d793965580>,\n",
       "  <matplotlib.patches.Wedge at 0x1d793965d90>,\n",
       "  <matplotlib.patches.Wedge at 0x1d7939745e0>,\n",
       "  <matplotlib.patches.Wedge at 0x1d793974df0>,\n",
       "  <matplotlib.patches.Wedge at 0x1d793984640>,\n",
       "  <matplotlib.patches.Wedge at 0x1d793984e50>,\n",
       "  <matplotlib.patches.Wedge at 0x1d7939916a0>,\n",
       "  <matplotlib.patches.Wedge at 0x1d793991eb0>,\n",
       "  <matplotlib.patches.Wedge at 0x1d793959700>,\n",
       "  <matplotlib.patches.Wedge at 0x1d793959f10>,\n",
       "  <matplotlib.patches.Wedge at 0x1d7939b0760>,\n",
       "  <matplotlib.patches.Wedge at 0x1d79344d1c0>,\n",
       "  <matplotlib.patches.Wedge at 0x1d7934cbcd0>],\n",
       " [Text(-1.0240422547201278, 0.40166834645975896, \"('lung cancer', 'malignant')\"),\n",
       "  Text(0.26475643336986104, -1.0676628826503574, \"('lung cancer(adenocarcinoma)', 'malignant')\"),\n",
       "  Text(0.7200798305767194, -0.8315557934357762, \"('tuberculoma', 'benign')\"),\n",
       "  Text(0.9217325132247225, -0.6003408815535027, \"('granuloma', 'benign')\"),\n",
       "  Text(1.0188507613553361, -0.4146602538050303, \"('lung cancer(bronchioloalveolar cell carcinoma)', 'malignant')\"),\n",
       "  Text(1.0667208694879078, -0.268526696250042, \"('unknown', 'benign')\"),\n",
       "  Text(1.0884795045095776, -0.1587840302504771, \"('metastasis of colon cancer', 'malignant')\"),\n",
       "  Text(1.098978321971781, -0.04739881682161186, \"('inflammatory mass', 'benign')\"),\n",
       "  Text(1.0988399526852335, 0.050505033241391474, \"('pulmonary tuberculosis', 'benign')\"),\n",
       "  Text(1.0934089666554059, 0.12023656531004936, \"('susp. inflammatory mass', 'benign')\"),\n",
       "  Text(1.0858796836375293, 0.17568526592534642, \"('sclerosing hemangioma', 'benign')\"),\n",
       "  Text(1.0755403517489999, 0.2306793266845509, \"('pulmonary hematoma', 'benign')\"),\n",
       "  Text(1.0624177272026238, 0.2850764334798849, \"('Inflammatory mass', 'benign')\"),\n",
       "  Text(1.0465457688401054, 0.3387358170062227, \"('Cryptococcosis', 'benign')\"),\n",
       "  Text(1.0279655502530618, 0.3915186170451161, \"('lung cancer(squamous cell carcinoma)', 'malignant')\"),\n",
       "  Text(1.0067251534924273, 0.4432882418084748, \"('hamartoma', 'benign')\"),\n",
       "  Text(0.9828795446413037, 0.49391072141198145, \"('lung abscess', 'benign')\"),\n",
       "  Text(0.9633225396377793, 0.5310458404185268, \"('lung canceror metastasis', 'malignant')\"),\n",
       "  Text(0.9495035913317605, 0.5553763859294786, \"('calcified granuloma', 'benign')\"),\n",
       "  Text(0.9350702602317815, 0.5793475713507985, \"('susp.tuberculoma', 'benign')\"),\n",
       "  Text(0.9200318855234634, 0.6029438859629817, \"('susp. sclerosing hemangioma', 'benign')\"),\n",
       "  Text(0.9043981978900321, 0.6261500616092459, \"('susp. lung metastasis', 'malignant')\"),\n",
       "  Text(0.8881793132160162, 0.6489510825748932, \"('susp. hamartoma', 'benign')\"),\n",
       "  Text(0.8713857260416907, 0.6713321953033355, \"('lung cancer(adenosquamous carcinoma)', 'malignant')\"),\n",
       "  Text(0.854028302772515, 0.6932789179424813, \"('lung cancer(large cell carcinoma)', 'malignant')\"),\n",
       "  Text(0.836118274647951, 0.7147770497153177, \"('pneumonia', 'benign')\"),\n",
       "  Text(0.8176672304742122, 0.7358126801086209, \"('organizing pneumonia', 'benign')\"),\n",
       "  Text(0.798687109125648, 0.7563721978738481, \"('organiging pneumonia', 'benign')\"),\n",
       "  Text(0.7791901918196124, 0.7764422998343894, \"('metastatic lung cancer', 'malignant')\"),\n",
       "  Text(0.7591890941698193, 0.7960099994934796, \"('metastasis of uterine cancer', 'malignant')\"),\n",
       "  Text(0.7386967580233229, 0.8150626354371991, \"('lung cancer(small cell carcinoma)', 'malignant')\"),\n",
       "  Text(0.7177264430864062, 0.8335878795271294, \"('metastasis of ovarian cancer', 'malignant')\")],\n",
       " [Text(-0.5585685025746151, 0.21909182534168667, '60.3%'),\n",
       "  Text(0.14441260001992418, -0.5823615723547403, '9.3%'),\n",
       "  Text(0.39277081667821057, -0.45357588732860515, '5.7%'),\n",
       "  Text(0.5027631890316667, -0.3274586626655469, '3.2%'),\n",
       "  Text(0.5557367789210923, -0.22617832025728923, '2.8%'),\n",
       "  Text(0.5818477469934041, -0.14646910704547744, '1.6%'),\n",
       "  Text(0.5937160933688604, -0.08660947104571477, '1.6%'),\n",
       "  Text(0.5994427210755168, -0.025853900084515557, '1.6%'),\n",
       "  Text(0.5993672469192182, 0.027548199949849892, '1.2%'),\n",
       "  Text(0.5964048909029486, 0.06558358107820873, '0.8%'),\n",
       "  Text(0.5922980092568341, 0.09582832686837076, '0.8%'),\n",
       "  Text(0.5866583736812726, 0.1258250872824823, '0.8%'),\n",
       "  Text(0.5795005784741584, 0.15549623644357358, '0.8%'),\n",
       "  Text(0.5708431466400574, 0.18476499109430325, '0.8%'),\n",
       "  Text(0.5607084819562155, 0.21355560929733605, '0.8%'),\n",
       "  Text(0.5491228109958693, 0.24179358644098622, '0.8%'),\n",
       "  Text(0.5361161152588928, 0.2694058480428989, '0.8%'),\n",
       "  Text(0.5254486579842431, 0.28966136750101457, '0.4%'),\n",
       "  Text(0.5179110498173239, 0.30293257414335195, '0.4%'),\n",
       "  Text(0.5100383237627899, 0.3160077661913446, '0.4%'),\n",
       "  Text(0.501835573921889, 0.3288784832525354, '0.4%'),\n",
       "  Text(0.49330810794001745, 0.34153639724140683, '0.4%'),\n",
       "  Text(0.4844614435723724, 0.3539733177681235, '0.4%'),\n",
       "  Text(0.47530130511364943, 0.36618119743818295, '0.4%'),\n",
       "  Text(0.46583361969409903, 0.37815213705953526, '0.4%'),\n",
       "  Text(0.45606451344433685, 0.38987839075380964, '0.4%'),\n",
       "  Text(0.4460003075313885, 0.4013523709683386, '0.4%'),\n",
       "  Text(0.43564751406853525, 0.4125666533857353, '0.4%'),\n",
       "  Text(0.4250128319016067, 0.42351398172784877, '0.4%'),\n",
       "  Text(0.41410314227444683, 0.4341872724509888, '0.4%'),\n",
       "  Text(0.4029255043763579, 0.4445796193293813, '0.4%'),\n",
       "  Text(0.3914871507744033, 0.4546842979238887, '0.4%')])"
      ]
     },
     "execution_count": 133,
     "metadata": {},
     "output_type": "execute_result"
    },
    {
     "data": {
      "image/png": "[encoded data removed]",
      "text/plain": [
       "<Figure size 432x288 with 1 Axes>"
      ]
     },
     "metadata": {},
     "output_type": "display_data"
    }
   ],
   "source": [
    "\n",
    "plt.pyplot.pie(data,labels=lbl,startangle=50,autopct='%0.1f%%',shadow=True)"
   ]
  },
  {
   "cell_type": "code",
   "execution_count": 127,
   "id": "559326ef",
   "metadata": {},
   "outputs": [],
   "source": [
    "dat=df[['diagnosis','gender']].value_counts"
   ]
  },
  {
   "cell_type": "code",
   "execution_count": 128,
   "id": "0a2d71dc",
   "metadata": {},
   "outputs": [
    {
     "data": {
      "text/plain": [
       "<bound method DataFrame.value_counts of               diagnosis  gender\n",
       "0           lung cancer    Male\n",
       "1    pulmonary hematoma  Female\n",
       "2           lung cancer  Female\n",
       "3     Inflammatory mass  Female\n",
       "4           lung cancer  Female\n",
       "..                  ...     ...\n",
       "242         lung cancer    Male\n",
       "243         lung cancer  Female\n",
       "244         lung cancer    Male\n",
       "245         lung cancer  Female\n",
       "246         lung cancer    Male\n",
       "\n",
       "[247 rows x 2 columns]>"
      ]
     },
     "execution_count": 128,
     "metadata": {},
     "output_type": "execute_result"
    }
   ],
   "source": [
    "dat"
   ]
  },
  {
   "cell_type": "code",
   "execution_count": 129,
   "id": "32b0195d",
   "metadata": {},
   "outputs": [],
   "source": [
    "label=df[['diagnosis','gender']].value_counts().keys()"
   ]
  },
  {
   "cell_type": "code",
   "execution_count": 130,
   "id": "be0e0f96",
   "metadata": {},
   "outputs": [
    {
     "data": {
      "text/plain": [
       "MultiIndex([(                                   'lung cancer',   'Male'),\n",
       "            (                                   'lung cancer', 'Female'),\n",
       "            (                   'lung cancer(adenocarcinoma)', 'Female'),\n",
       "            (                                   'tuberculoma',   'Male'),\n",
       "            (                   'lung cancer(adenocarcinoma)',   'Male'),\n",
       "            (                                     'granuloma',   'Male'),\n",
       "            (                                   'tuberculoma', 'Female'),\n",
       "            (                                       'unknown', 'Female'),\n",
       "            ('lung cancer(bronchioloalveolar cell carcinoma)', 'Female'),\n",
       "            (                        'pulmonary tuberculosis',   'Male'),\n",
       "            ('lung cancer(bronchioloalveolar cell carcinoma)',   'Male'),\n",
       "            (                    'metastasis of colon cancer', 'Female'),\n",
       "            (                                'Cryptococcosis', 'Female'),\n",
       "            (                                     'hamartoma', 'Female'),\n",
       "            (                             'inflammatory mass',   'Male'),\n",
       "            (                             'inflammatory mass', 'Female'),\n",
       "            (                                     'granuloma', 'Female'),\n",
       "            (                         'sclerosing hemangioma', 'Female'),\n",
       "            (          'lung cancer(squamous cell carcinoma)',   'Male'),\n",
       "            (                             'Inflammatory mass', 'Female'),\n",
       "            (                       'susp. inflammatory mass',   'Male'),\n",
       "            (                               'susp. hamartoma',   'Male'),\n",
       "            (                       'susp. inflammatory mass', 'Female'),\n",
       "            (                   'susp. sclerosing hemangioma', 'Female'),\n",
       "            (                         'susp. lung metastasis', 'Female'),\n",
       "            (                            'pulmonary hematoma', 'Female'),\n",
       "            (                              'susp.tuberculoma',   'Male'),\n",
       "            (                           'calcified granuloma',   'Male'),\n",
       "            (                            'pulmonary hematoma',   'Male'),\n",
       "            (                                  'lung abscess',   'Male'),\n",
       "            (                                     'pneumonia', 'Female'),\n",
       "            (                                  'lung abscess', 'Female'),\n",
       "            (                          'organiging pneumonia',   'Male'),\n",
       "            (                        'metastatic lung cancer', 'Female'),\n",
       "            (                  'metastasis of uterine cancer', 'Female'),\n",
       "            (                  'metastasis of ovarian cancer', 'Female'),\n",
       "            (                    'metastasis of colon cancer',   'Male'),\n",
       "            (                      'lung canceror metastasis', 'Female'),\n",
       "            (             'lung cancer(small cell carcinoma)',   'Male'),\n",
       "            (             'lung cancer(large cell carcinoma)',   'Male'),\n",
       "            (          'lung cancer(adenosquamous carcinoma)',   'Male'),\n",
       "            (                          'organizing pneumonia', 'Female')],\n",
       "           names=['diagnosis', 'gender'])"
      ]
     },
     "execution_count": 130,
     "metadata": {},
     "output_type": "execute_result"
    }
   ],
   "source": [
    "label"
   ]
  },
  {
   "cell_type": "code",
   "execution_count": null,
   "id": "9f61c788",
   "metadata": {},
   "outputs": [],
   "source": [
    "plt.pyplot.pie(dat,labels=label,startangle=50,autopct='%0.1f%%',shadow=True)"
   ]
  }
 ],
 "metadata": {
  "kernelspec": {
   "display_name": "Python 3",
   "language": "python",
   "name": "python3"
  },
  "language_info": {
   "codemirror_mode": {
    "name": "ipython",
    "version": 3
   },
   "file_extension": ".py",
   "mimetype": "text/x-python",
   "name": "python",
   "nbconvert_exporter": "python",
   "pygments_lexer": "ipython3",
   "version": "3.8.8"
  }
 },
 "nbformat": 4,
 "nbformat_minor": 5
}
