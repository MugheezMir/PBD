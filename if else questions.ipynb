{
 "cells": [
  {
   "cell_type": "code",
   "execution_count": 1,
   "id": "3c54c30d",
   "metadata": {},
   "outputs": [
    {
     "name": "stdout",
     "output_type": "stream",
     "text": [
      "enter the width of RA: 10\n",
      "enter the length of RA: 10\n",
      "enter the width of second RA: 20\n",
      "enter the length of second RA: 10\n",
      "THE AREA OF SECOND RECTANGLE IS GREATER THAN FIRST RECTANGLE \n"
     ]
    }
   ],
   "source": [
    "a=int(input(\"enter the width of RA: \"))\n",
    "b=int(input(\"enter the length of RA: \"))\n",
    "x=int(input(\"enter the width of second RA: \"))\n",
    "y=int(input(\"enter the length of second RA: \"))\n",
    "area1=a*b\n",
    "area2=x*y\n",
    "if area1>area2:\n",
    "    print(\"THE AREA OF FIRST RECTANGLE IS GREATER THAN SECOND RECTANGLE \")\n",
    "else:\n",
    "    print(\"THE AREA OF SECOND RECTANGLE IS GREATER THAN FIRST RECTANGLE \")\n"
   ]
  },
  {
   "cell_type": "code",
   "execution_count": 15,
   "id": "4c3b3e06",
   "metadata": {},
   "outputs": [
    {
     "name": "stdout",
     "output_type": "stream",
     "text": [
      "ENTER THE NUMBER OF BOOKS PURCHASED THIS MONTH: 10\n",
      "BOOK PURCHASED 10       POINTS AWARDED  60"
     ]
    }
   ],
   "source": [
    "a=int(input(\"ENTER THE NUMBER OF BOOKS PURCHASED THIS MONTH: \"))\n",
    "if a==1:\n",
    "    print(\"BOOK PURCHASED\",a,\"      \",\"POINTS AWARDED \",5,end=\"\")\n",
    "elif a==0:\n",
    "     print(\"BOOK PURCHASED\",a,\"     \",\"POINTS AWARDED \",0,end='')\n",
    "elif a==2:\n",
    "     print(\"BOOK PURCHASED\",a,\"     \",\"POINTS AWARDED \",15,end=\"\")\n",
    "elif a==3:\n",
    "     print(\"BOOK PURCHASED\",a,\"     \",\"POINTS AWARDED \",30,end=\"\")\n",
    "elif a>=4:\n",
    "     print(\"BOOK PURCHASED\",a,\"     \",\"POINTS AWARDED \",60,end=\"\")\n",
    "    "
   ]
  },
  {
   "cell_type": "code",
   "execution_count": 21,
   "id": "3b89d89e",
   "metadata": {},
   "outputs": [
    {
     "name": "stdout",
     "output_type": "stream",
     "text": [
      "ENTER THE MASS OF OBJECT: 1000\n",
      "THE WEIGHT OF OBJECT IS:  9800.0\n",
      "OBJECT IS TOO HEAVY\n"
     ]
    }
   ],
   "source": [
    "x=int(input(\"ENTER THE MASS OF OBJECT: \"))\n",
    "w=x*9.8\n",
    "print(\"THE WEIGHT OF OBJECT IS: \",w)\n",
    "if w>1000:\n",
    "    print(\"OBJECT IS TOO HEAVY\")\n",
    "elif w<10:\n",
    "    print(\"OBJECT IS TOO LIGHT\")"
   ]
  },
  {
   "cell_type": "code",
   "execution_count": 25,
   "id": "cfa3e245",
   "metadata": {},
   "outputs": [
    {
     "name": "stdout",
     "output_type": "stream",
     "text": [
      "ENTER THE FIRST NUMBER OF PROBLEM: 10\n",
      "ENTER THE SECOND NUMBER OF PROBLEM: 10\n",
      "ENTER THE ANSWER: 20\n",
      "CONGRAGULATIONS YOUR ANSWER IS RIGHT\n"
     ]
    }
   ],
   "source": [
    "x=int(input(\"ENTER THE FIRST NUMBER OF PROBLEM: \"))\n",
    "y=int(input(\"ENTER THE SECOND NUMBER OF PROBLEM: \"))\n",
    "z=int(input(\"ENTER THE ANSWER: \"))\n",
    "sum=x+y\n",
    "if sum==z:\n",
    "    print(\"CONGRAGULATIONS YOUR ANSWER IS RIGHT\")\n",
    "else:\n",
    "    print(\"SORRY THE RIGHT ANSWER IS \",sum)"
   ]
  },
  {
   "cell_type": "code",
   "execution_count": 5,
   "id": "514039fb",
   "metadata": {},
   "outputs": [
    {
     "name": "stdout",
     "output_type": "stream",
     "text": [
      "enter the  number of units purchased: 100\n",
      "50 % discount given \n",
      "TOTAL BILL AFTER DISCOUNT IS:  9850.5\n"
     ]
    }
   ],
   "source": [
    "retail=99\n",
    "x=int(input(\"enter the  number of units purchased: \"))\n",
    "if x<=0:\n",
    "    print(\" Make sure the number of units is greater than 0\")\n",
    "elif  x>0 and x<=9:\n",
    "    print(\"Total bill is: \",retail*x)\n",
    "elif x>=10 and x<=19:\n",
    "    print(\"20 % discount given \")\n",
    "    p= 20/100*retail\n",
    "    d=x*retail-p\n",
    "    print(\"TOTAL BILL AFTER DISCOUNT IS: \",d)\n",
    "elif x>=20 and x<=49:\n",
    "    print(\"30 % discount given \")\n",
    "    p= 30/100*retail\n",
    "    d=x*retail-p\n",
    "    print(\"TOTAL BILL AFTER DISCOUNT IS: \",d)\n",
    "elif x>=50 and x<=99:\n",
    "    print(\"40 % discount given \")\n",
    "    p= 40/100*retail\n",
    "    d=x*retail-p\n",
    "    print(\"TOTAL BILL AFTER DISCOUNT IS: \",d)\n",
    "else:\n",
    "    print(\"50 % discount given \")\n",
    "    p= 50/100*retail\n",
    "    d=x*retail-p\n",
    "    print(\"TOTAL BILL AFTER DISCOUNT IS: \",d)"
   ]
  },
  {
   "cell_type": "code",
   "execution_count": 13,
   "id": "ea0fa29d",
   "metadata": {},
   "outputs": [
    {
     "name": "stdout",
     "output_type": "stream",
     "text": [
      "NUMBER OF CHECKS IN MONTH: 1\n",
      "bank’s fees for the month:$ 11\n"
     ]
    }
   ],
   "source": [
    "x=int(input(\"NUMBER OF CHECKS IN MONTH: \"))\n",
    "fee=10\n",
    "if x<0:\n",
    "    print(\"Do not accept a negative value for the number of checks written: \")\n",
    "elif x<20:\n",
    "    print(\"bank’s fees for the month:$\",fee+1)\n",
    "elif x>=20 and x<=39:\n",
    "     print(\"bank’s fees for the month:$\",fee+0.8)\n",
    "elif x>=40 and x<=59:\n",
    "     print(\"bank’s fees for the month:$\",fee+0.6)\n",
    "elif x>=60:\n",
    "     print(\"bank’s fees for the month:$\",fee+0.4)"
   ]
  },
  {
   "cell_type": "code",
   "execution_count": 1,
   "id": "79790210",
   "metadata": {},
   "outputs": [
    {
     "ename": "KeyboardInterrupt",
     "evalue": "Interrupted by user",
     "output_type": "error",
     "traceback": [
      "\u001b[1;31m---------------------------------------------------------------------------\u001b[0m",
      "\u001b[1;31mKeyboardInterrupt\u001b[0m                         Traceback (most recent call last)",
      "\u001b[1;32m<ipython-input-1-fe70e1a4bed1>\u001b[0m in \u001b[0;36m<module>\u001b[1;34m\u001b[0m\n\u001b[1;32m----> 1\u001b[1;33m \u001b[0mx\u001b[0m\u001b[1;33m=\u001b[0m\u001b[0mint\u001b[0m\u001b[1;33m(\u001b[0m\u001b[0minput\u001b[0m\u001b[1;33m(\u001b[0m\u001b[1;34m\"enter a day:\"\u001b[0m\u001b[1;33m)\u001b[0m\u001b[1;33m)\u001b[0m\u001b[1;33m\u001b[0m\u001b[1;33m\u001b[0m\u001b[0m\n\u001b[0m\u001b[0;32m      2\u001b[0m \u001b[0my\u001b[0m\u001b[1;33m=\u001b[0m\u001b[0mint\u001b[0m\u001b[1;33m(\u001b[0m\u001b[0minput\u001b[0m\u001b[1;33m(\u001b[0m\u001b[1;34m\"enter a month: \"\u001b[0m\u001b[1;33m)\u001b[0m\u001b[1;33m)\u001b[0m\u001b[1;33m\u001b[0m\u001b[1;33m\u001b[0m\u001b[0m\n\u001b[0;32m      3\u001b[0m \u001b[0mz\u001b[0m\u001b[1;33m=\u001b[0m\u001b[0mint\u001b[0m\u001b[1;33m(\u001b[0m\u001b[0minput\u001b[0m\u001b[1;33m(\u001b[0m\u001b[1;34m\"enter last to digit of year: \"\u001b[0m\u001b[1;33m)\u001b[0m\u001b[1;33m)\u001b[0m\u001b[1;33m\u001b[0m\u001b[1;33m\u001b[0m\u001b[0m\n\u001b[0;32m      4\u001b[0m \u001b[1;32mif\u001b[0m \u001b[0mx\u001b[0m\u001b[1;33m*\u001b[0m\u001b[0my\u001b[0m\u001b[1;33m==\u001b[0m\u001b[0mz\u001b[0m\u001b[1;33m:\u001b[0m\u001b[1;33m\u001b[0m\u001b[1;33m\u001b[0m\u001b[0m\n\u001b[0;32m      5\u001b[0m     \u001b[0mprint\u001b[0m\u001b[1;33m(\u001b[0m\u001b[1;34m\"DATE IS MAGIC\"\u001b[0m\u001b[1;33m)\u001b[0m\u001b[1;33m\u001b[0m\u001b[1;33m\u001b[0m\u001b[0m\n",
      "\u001b[1;32m~\\anaconda3\\lib\\site-packages\\ipykernel\\kernelbase.py\u001b[0m in \u001b[0;36mraw_input\u001b[1;34m(self, prompt)\u001b[0m\n\u001b[0;32m    858\u001b[0m                 \u001b[1;34m\"raw_input was called, but this frontend does not support input requests.\"\u001b[0m\u001b[1;33m\u001b[0m\u001b[1;33m\u001b[0m\u001b[0m\n\u001b[0;32m    859\u001b[0m             )\n\u001b[1;32m--> 860\u001b[1;33m         return self._input_request(str(prompt),\n\u001b[0m\u001b[0;32m    861\u001b[0m             \u001b[0mself\u001b[0m\u001b[1;33m.\u001b[0m\u001b[0m_parent_ident\u001b[0m\u001b[1;33m,\u001b[0m\u001b[1;33m\u001b[0m\u001b[1;33m\u001b[0m\u001b[0m\n\u001b[0;32m    862\u001b[0m             \u001b[0mself\u001b[0m\u001b[1;33m.\u001b[0m\u001b[0m_parent_header\u001b[0m\u001b[1;33m,\u001b[0m\u001b[1;33m\u001b[0m\u001b[1;33m\u001b[0m\u001b[0m\n",
      "\u001b[1;32m~\\anaconda3\\lib\\site-packages\\ipykernel\\kernelbase.py\u001b[0m in \u001b[0;36m_input_request\u001b[1;34m(self, prompt, ident, parent, password)\u001b[0m\n\u001b[0;32m    902\u001b[0m             \u001b[1;32mexcept\u001b[0m \u001b[0mKeyboardInterrupt\u001b[0m\u001b[1;33m:\u001b[0m\u001b[1;33m\u001b[0m\u001b[1;33m\u001b[0m\u001b[0m\n\u001b[0;32m    903\u001b[0m                 \u001b[1;31m# re-raise KeyboardInterrupt, to truncate traceback\u001b[0m\u001b[1;33m\u001b[0m\u001b[1;33m\u001b[0m\u001b[1;33m\u001b[0m\u001b[0m\n\u001b[1;32m--> 904\u001b[1;33m                 \u001b[1;32mraise\u001b[0m \u001b[0mKeyboardInterrupt\u001b[0m\u001b[1;33m(\u001b[0m\u001b[1;34m\"Interrupted by user\"\u001b[0m\u001b[1;33m)\u001b[0m \u001b[1;32mfrom\u001b[0m \u001b[1;32mNone\u001b[0m\u001b[1;33m\u001b[0m\u001b[1;33m\u001b[0m\u001b[0m\n\u001b[0m\u001b[0;32m    905\u001b[0m             \u001b[1;32mexcept\u001b[0m \u001b[0mException\u001b[0m \u001b[1;32mas\u001b[0m \u001b[0me\u001b[0m\u001b[1;33m:\u001b[0m\u001b[1;33m\u001b[0m\u001b[1;33m\u001b[0m\u001b[0m\n\u001b[0;32m    906\u001b[0m                 \u001b[0mself\u001b[0m\u001b[1;33m.\u001b[0m\u001b[0mlog\u001b[0m\u001b[1;33m.\u001b[0m\u001b[0mwarning\u001b[0m\u001b[1;33m(\u001b[0m\u001b[1;34m\"Invalid Message:\"\u001b[0m\u001b[1;33m,\u001b[0m \u001b[0mexc_info\u001b[0m\u001b[1;33m=\u001b[0m\u001b[1;32mTrue\u001b[0m\u001b[1;33m)\u001b[0m\u001b[1;33m\u001b[0m\u001b[1;33m\u001b[0m\u001b[0m\n",
      "\u001b[1;31mKeyboardInterrupt\u001b[0m: Interrupted by user"
     ]
    }
   ],
   "source": [
    "x=int(input(\"enter a day:\"))\n",
    "y=int(input(\"enter a month: \"))\n",
    "z=int(input(\"enter last to digit of year: \"))\n",
    "if x*y==z:\n",
    "    print(\"DATE IS MAGIC\")\n",
    "else:\n",
    "    print(\"DATE IS NOT MAGIC\")"
   ]
  },
  {
   "cell_type": "code",
   "execution_count": 2,
   "id": "39a54d32",
   "metadata": {},
   "outputs": [
    {
     "name": "stdout",
     "output_type": "stream",
     "text": [
      "enter a number b/w 1 to 10: 11\n",
      "The number entered is out of range,Please enter number b/W 1 to 10 \n",
      "\n"
     ]
    }
   ],
   "source": [
    "x=int(input(\"enter a number b/w 1 to 10: \"))\n",
    "if x==1:\n",
    "    print(\"I\")\n",
    "elif x==2:\n",
    "    print(\"II\")\n",
    "elif x==3:\n",
    "    print(\"III\")\n",
    "elif x==4:\n",
    "    print(\"IV\")\n",
    "elif x==5:\n",
    "    print(\"V\")\n",
    "elif x==6:\n",
    "    print(\"VI\")\n",
    "elif x==7:\n",
    "    print(\"VII\")\n",
    "elif x==8:\n",
    "    print(\"VII\")\n",
    "elif x==9:\n",
    "    print(\"IX\")\n",
    "elif x==10:\n",
    "    print(\"X\")\n",
    "else:\n",
    "    print(\"The number entered is out of range,Please enter number b/W 1 to 10 \\n\")"
   ]
  },
  {
   "cell_type": "code",
   "execution_count": 3,
   "id": "510c8d13",
   "metadata": {},
   "outputs": [
    {
     "name": "stdout",
     "output_type": "stream",
     "text": [
      "Enter the value b/w 0 to 35 \n",
      "2\n",
      "2\n"
     ]
    }
   ],
   "source": [
    "x=int (input(\"Enter the value b/w 0 to 35 \\n\"))\n",
    "\n",
    "if x>=0 and x<=9:\n",
    "    print(x)\n",
    "else:\n",
    "    print(chr(55+x))"
   ]
  },
  {
   "cell_type": "code",
   "execution_count": 4,
   "id": "d878f752",
   "metadata": {},
   "outputs": [
    {
     "name": "stdout",
     "output_type": "stream",
     "text": [
      "enter the first number:\n",
      "22\n",
      "enter the second number:\n",
      "2\n",
      "22 is larger than 2\n"
     ]
    }
   ],
   "source": [
    "x=int(input(\"enter the first number:\\n\"))\n",
    "y=int(input(\"enter the second number:\\n\"))\n",
    "if x>y or y<x:\n",
    "    print(x,\"is larger than\",y)\n",
    "else:\n",
    "    print(x,\"is smaller than\",y)"
   ]
  },
  {
   "cell_type": "code",
   "execution_count": null,
   "id": "cf45c3fa",
   "metadata": {},
   "outputs": [],
   "source": []
  }
 ],
 "metadata": {
  "kernelspec": {
   "display_name": "Python 3",
   "language": "python",
   "name": "python3"
  },
  "language_info": {
   "codemirror_mode": {
    "name": "ipython",
    "version": 3
   },
   "file_extension": ".py",
   "mimetype": "text/x-python",
   "name": "python",
   "nbconvert_exporter": "python",
   "pygments_lexer": "ipython3",
   "version": "3.8.8"
  }
 },
 "nbformat": 4,
 "nbformat_minor": 5
}
