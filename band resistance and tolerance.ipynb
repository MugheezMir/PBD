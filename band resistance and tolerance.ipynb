{
 "cells": [
  {
   "cell_type": "code",
   "execution_count": null,
   "id": "9f448ceb",
   "metadata": {},
   "outputs": [],
   "source": [
    "\n",
    "def findResistance(a, b, c, d):\n",
    " \n",
    "    color_digit = {'black': '0',\n",
    "                   'brown': '1',\n",
    "                   'red': '2',\n",
    "                   'orange': '3',\n",
    "                   'yellow': '4',\n",
    "                   'green': '5',\n",
    "                   'blue': '6',\n",
    "                   'violet': '7',\n",
    "                   'grey': '8',\n",
    "                   'white': '9'}\n",
    "\n",
    "    multiplier = {'black': '0',\n",
    "                  'brown': '10',\n",
    "                  'red': '100',\n",
    "                  'orange': '1000',\n",
    "                  'yellow': '10000',\n",
    "                  'green': '100000',\n",
    "                  'blue': '1000000',\n",
    "                  'violet': '10000000',\n",
    "                  'grey': '100000000',\n",
    "                  'white': '1000000000'}\n",
    "\n",
    "    tolerance = {'brown': '+/- 1 %',\n",
    "                 'red': '+/- 2 %',\n",
    "                 'green': \"+/- 0.5 %\",\n",
    "                 'blue': '+/- 0.25 %',\n",
    "                 'violet': '+/- 0.1 %',\n",
    "                 'gold': '+/- 5 %',\n",
    "                 'silver': '+/- 10 %',\n",
    "                 'none': '+/-20 %'}\n",
    "    if  (a in color_digit and b in color_digit and c in multiplier and d in tolerance):\n",
    "        x=color_digit.get(a)\n",
    "        y=color_digit.get(b)\n",
    "        z=multiplier.get(c)\n",
    "        t=tolerance.get(d)\n",
    "        print(\"Resistance = \"+x + y+\" x \"+z+\" ohms \"+t)\n",
    "    else:\n",
    "        print(\"COLOR NOT VALID\")\n",
    "\n",
    "\n",
    "\n",
    "if __name__ == \"__main__\":\n",
    "    a = input(\"enter 1st color: \")\n",
    "    b = input(\"enter 2nd color: \")\n",
    "    c = input(\"enter 3rd color: \")\n",
    "    d = input(\"enter 4th color: \")\n",
    "\n",
    "  \n",
    "    findResistance(a, b, c, d)\n"
   ]
  },
  {
   "cell_type": "code",
   "execution_count": null,
   "id": "41b11ccb",
   "metadata": {},
   "outputs": [],
   "source": []
  }
 ],
 "metadata": {
  "kernelspec": {
   "display_name": "Python 3",
   "language": "python",
   "name": "python3"
  },
  "language_info": {
   "codemirror_mode": {
    "name": "ipython",
    "version": 3
   },
   "file_extension": ".py",
   "mimetype": "text/x-python",
   "name": "python",
   "nbconvert_exporter": "python",
   "pygments_lexer": "ipython3",
   "version": "3.8.8"
  }
 },
 "nbformat": 4,
 "nbformat_minor": 5
}
